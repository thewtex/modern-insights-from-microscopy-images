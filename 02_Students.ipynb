{
 "cells": [
  {
   "cell_type": "markdown",
   "metadata": {},
   "source": [
    "# Student Introductions"
   ]
  },
  {
   "cell_type": "markdown",
   "metadata": {},
   "source": [
    "## Learning objectives\n",
    "\n",
    "- Connect students to collaborate on shared challenges\n",
    "- Gain an understanding of peer needs "
   ]
  },
  {
   "cell_type": "markdown",
   "metadata": {},
   "source": [
    "### Section Introductions\n",
    "\n",
    "Click on your session:\n",
    "\n",
    "- [Session 1: 2020-11-30 13:00 UTC – 2020-11-30 17:00 UTC](https://hackmd.io/JX18R_jeRJKaK1Dh-0EShA)\n",
    "- [Session 2: 2020-11-30 18:00 UTC – 2020-11-30 22:00 UTC](https://hackmd.io/vvpRf3oZSN63FLX5UJ8Tng)"
   ]
  }
 ],
 "metadata": {
  "kernelspec": {
   "display_name": "Python 3",
   "language": "python",
   "name": "python3"
  }
 },
 "nbformat": 4,
 "nbformat_minor": 4
}
