{
 "cells": [
  {
   "cell_type": "markdown",
   "metadata": {},
   "source": [
    "  - Cloud computation\n",
    "      - Short running functional units\n",
    "      - Long running computation\n",
    "        - Managed kubernetes\n",
    "        - RabbitMQ\n",
    "        \n",
    "              - Data storage\n",
    "          - Zarr, N5, NGFF, Towards a community standard image file format for sharing big image data in the cloud https://www.janelia.org/sites/default/files/You%20%2B%20Janelia/Conferences/19.pdf"
   ]
  },
  {
   "cell_type": "code",
   "execution_count": null,
   "metadata": {},
   "outputs": [],
   "source": []
  }
 ],
 "metadata": {
  "kernelspec": {
   "display_name": "Python 3",
   "language": "python",
   "name": "python3"
  }
 },
 "nbformat": 4,
 "nbformat_minor": 4
}
