{
 "cells": [
  {
   "cell_type": "markdown",
   "metadata": {},
   "source": [
    "# Image Data Storage for the Web"
   ]
  },
  {
   "cell_type": "markdown",
   "metadata": {},
   "source": [
    "## Learning objectives\n",
    "\n",
    "- Become familiar with the design of modern, **cloud storage systems**\n",
    "- Gain experience with the **zarr** and **n5 formats**\n",
    "- Understand the relationship between **chunked, compressed**, object storage and **parallel processing and multi-scale visualization**\n",
    "\n",
    "*See also*: [I2K 2020 Tutorial: Zarr, N5, NGFF, Towards a community standard image file format for sharing big image data in the cloud](https://www.janelia.org/sites/default/files/You%20%2B%20Janelia/Conferences/19.pdf)"
   ]
  },
  {
   "cell_type": "markdown",
   "metadata": {},
   "source": [
    "# Cloud storage\n",
    "\n",
    "**Cloud storage services**, such as:\n",
    "\n",
    "- Amazon Simple Storage Service (AWS S3)\n",
    "- Google Cloud Storage\n",
    "- Microsoft Azure Storage\n",
    "- Minio Cloud Storage\n",
    "\n",
    "**differ from traditional filesystem storage**.\n",
    "\n",
    "In *File Storage*:\n",
    "\n",
    "- Data is organized into files and folders.\n",
    "- There is generally a pool of storage, e.g. a volume, with limited capacity that can be accessed.\n",
    "- Data can be overwritten.\n",
    "- Limited metadata is associated with the file.\n",
    "\n",
    "In cloud, *Object Storage* systems:\n",
    "\n",
    "- Objects, binary blobs, live in a flat structure.\n",
    "- Object have a unique identifier and associated metadata, typically JSON-compatible\n",
    "- Access is possible via simple HTTP requests\n",
    "- Object's cannot be modified\n",
    "- There are not structural limits to scaling"
   ]
  },
  {
   "cell_type": "markdown",
   "metadata": {},
   "source": [
    "## Zarr and n5 formats"
   ]
  },
  {
   "cell_type": "markdown",
   "metadata": {},
   "source": [
    "[Zarr](https://zarr-developers.github.io/about/) and [n5](https://github.com/saalfeldlab/n5/) are file formats with reference implementatinos that map well to cloud Object Storage services. They are also suitable for storage of large bioimages.\n",
    "\n",
    "Together zarr and n5 are implementations of the [Next-generation File Format (NGFF)](https://ngff.openmicroscopy.org/latest/), which is *a hierarchy of n-dimensional (dense) arrays with metadata*.\n",
    "\n",
    "Zarr and n5 support:\n",
    "\n",
    "- Group hierarchies\n",
    "- Arbitrary JSON-compatible meta-data\n",
    "- Chunked, n-dimensional binary tensor datasets\n",
    "- Binary component types: [u]int8, [u]int16, [u]int32, [u]int64, float32, float64\n",
    "- Next-generation lossless compression with [blosc](https://blosc.org/pages/blosc-in-depth/) of binary chunks.\n",
    "\n",
    "When combined with a **multi-scale image model** such as [OME-Zarr](https://blog.openmicroscopy.org/file-formats/community/2020/11/04/zarr-data/), **large image visualization** is possible.\n",
    "\n",
    "The object storage-compatible model facilitates **parallel processing** because it is conducive to **compressed chunk writes**, even in a cloud storage environment."
   ]
  },
  {
   "cell_type": "markdown",
   "metadata": {},
   "source": [
    "## Exercises"
   ]
  },
  {
   "cell_type": "code",
   "execution_count": null,
   "metadata": {},
   "outputs": [
    {
     "name": "stdout",
     "output_type": "stream",
     "text": [
      "https://s3.embassy.ebi.ac.uk/idr/zarr/v0.1/6001240.zarr/ [zgroup]\r\n",
      " - metadata\r\n",
      "   - Multiscales\r\n",
      "   - OMERO\r\n",
      " - data\r\n",
      "   - (1, 2, 236, 275, 271)\r\n",
      "   - (1, 2, 236, 137, 135)\r\n"
     ]
    }
   ],
   "source": [
    "# Get metadata on an image\n",
    "!ome_zarr info https://s3.embassy.ebi.ac.uk/idr/zarr/v0.1/6001240.zarr/"
   ]
  },
  {
   "cell_type": "markdown",
   "metadata": {},
   "source": [
    "*Does the entire dataset need to be downloaded to examine its metadata?*"
   ]
  },
  {
   "cell_type": "code",
   "execution_count": null,
   "metadata": {},
   "outputs": [
    {
     "name": "stdout",
     "output_type": "stream",
     "text": [
      "downloading...\n",
      "   .\n",
      "to image.zarr\n",
      "[########################################] | 100% Completed |  4.9s\n",
      "[########################################] | 100% Completed |  7.6s\n"
     ]
    }
   ],
   "source": [
    "# Download an image dataset\n",
    "!ome_zarr download https://s3.embassy.ebi.ac.uk/idr/zarr/v0.1/6001240.zarr/ --output image.zarr"
   ]
  },
  {
   "cell_type": "markdown",
   "metadata": {},
   "source": [
    "*Examine the contents of the filesystem representation of the OME-Zarr multi-scale image. What information is stored in each file?"
   ]
  },
  {
   "cell_type": "code",
   "execution_count": null,
   "metadata": {},
   "outputs": [
    {
     "name": "stdout",
     "output_type": "stream",
     "text": [
      "\u001b[0m\u001b[01;34m.\u001b[0m/  \u001b[01;34m..\u001b[0m/  \u001b[01;34m0\u001b[0m/  \u001b[01;34m1\u001b[0m/  .zattrs  .zgroup\r\n"
     ]
    }
   ],
   "source": [
    "%ls -a image.zarr"
   ]
  },
  {
   "cell_type": "code",
   "execution_count": null,
   "metadata": {},
   "outputs": [
    {
     "name": "stdout",
     "output_type": "stream",
     "text": [
      "{\"multiscales\": [{\"datasets\": [{\"path\": \"0\"}, {\"path\": \"1\"}], \"version\": \"0.1\"}], \"omero\": {\"channels\": [{\"active\": true, \"coefficient\": 1.0, \"color\": \"0000FF\", \"family\": \"linear\", \"inverted\": false, \"label\": \"LaminB1\", \"window\": {\"end\": 1500.0, \"max\": 65535.0, \"min\": 0.0, \"start\": 0.0}}, {\"active\": true, \"coefficient\": 1.0, \"color\": \"FFFF00\", \"family\": \"linear\", \"inverted\": false, \"label\": \"Dapi\", \"window\": {\"end\": 1500.0, \"max\": 65535.0, \"min\": 0.0, \"start\": 0.0}}], \"id\": 6001240, \"name\": \"B1_C1.tif\", \"rdefs\": {\"defaultT\": 0, \"defaultZ\": 118, \"model\": \"color\"}, \"version\": \"0.1\"}}"
     ]
    }
   ],
   "source": [
    "%cat image.zarr/.zattrs"
   ]
  },
  {
   "cell_type": "code",
   "execution_count": null,
   "metadata": {},
   "outputs": [
    {
     "name": "stdout",
     "output_type": "stream",
     "text": [
      "{\"zarr_format\": 2}"
     ]
    }
   ],
   "source": [
    "%cat image.zarr/.zgroup"
   ]
  },
  {
   "cell_type": "code",
   "execution_count": null,
   "metadata": {},
   "outputs": [
    {
     "name": "stdout",
     "output_type": "stream",
     "text": [
      "\u001b[0m\u001b[01;34m.\u001b[0m/           0.0.169.0.0  0.0.29.0.0  0.1.10.0.0   0.1.172.0.0  0.1.32.0.0\r\n",
      "\u001b[01;34m..\u001b[0m/          0.0.17.0.0   0.0.3.0.0   0.1.100.0.0  0.1.173.0.0  0.1.33.0.0\r\n",
      "0.0.0.0.0    0.0.170.0.0  0.0.30.0.0  0.1.101.0.0  0.1.174.0.0  0.1.34.0.0\r\n",
      "0.0.1.0.0    0.0.171.0.0  0.0.31.0.0  0.1.102.0.0  0.1.175.0.0  0.1.35.0.0\r\n",
      "0.0.10.0.0   0.0.172.0.0  0.0.32.0.0  0.1.103.0.0  0.1.176.0.0  0.1.36.0.0\r\n",
      "0.0.100.0.0  0.0.173.0.0  0.0.33.0.0  0.1.104.0.0  0.1.177.0.0  0.1.37.0.0\r\n",
      "0.0.101.0.0  0.0.174.0.0  0.0.34.0.0  0.1.105.0.0  0.1.178.0.0  0.1.38.0.0\r\n",
      "0.0.102.0.0  0.0.175.0.0  0.0.35.0.0  0.1.106.0.0  0.1.179.0.0  0.1.39.0.0\r\n",
      "0.0.103.0.0  0.0.176.0.0  0.0.36.0.0  0.1.107.0.0  0.1.18.0.0   0.1.4.0.0\r\n",
      "0.0.104.0.0  0.0.177.0.0  0.0.37.0.0  0.1.108.0.0  0.1.180.0.0  0.1.40.0.0\r\n",
      "0.0.105.0.0  0.0.178.0.0  0.0.38.0.0  0.1.109.0.0  0.1.181.0.0  0.1.41.0.0\r\n",
      "0.0.106.0.0  0.0.179.0.0  0.0.39.0.0  0.1.11.0.0   0.1.182.0.0  0.1.42.0.0\r\n",
      "0.0.107.0.0  0.0.18.0.0   0.0.4.0.0   0.1.110.0.0  0.1.183.0.0  0.1.43.0.0\r\n",
      "0.0.108.0.0  0.0.180.0.0  0.0.40.0.0  0.1.111.0.0  0.1.184.0.0  0.1.44.0.0\r\n",
      "0.0.109.0.0  0.0.181.0.0  0.0.41.0.0  0.1.112.0.0  0.1.185.0.0  0.1.45.0.0\r\n",
      "0.0.11.0.0   0.0.182.0.0  0.0.42.0.0  0.1.113.0.0  0.1.186.0.0  0.1.46.0.0\r\n",
      "0.0.110.0.0  0.0.183.0.0  0.0.43.0.0  0.1.114.0.0  0.1.187.0.0  0.1.47.0.0\r\n",
      "0.0.111.0.0  0.0.184.0.0  0.0.44.0.0  0.1.115.0.0  0.1.188.0.0  0.1.48.0.0\r\n",
      "0.0.112.0.0  0.0.185.0.0  0.0.45.0.0  0.1.116.0.0  0.1.189.0.0  0.1.49.0.0\r\n",
      "0.0.113.0.0  0.0.186.0.0  0.0.46.0.0  0.1.117.0.0  0.1.19.0.0   0.1.5.0.0\r\n",
      "0.0.114.0.0  0.0.187.0.0  0.0.47.0.0  0.1.118.0.0  0.1.190.0.0  0.1.50.0.0\r\n",
      "0.0.115.0.0  0.0.188.0.0  0.0.48.0.0  0.1.119.0.0  0.1.191.0.0  0.1.51.0.0\r\n",
      "0.0.116.0.0  0.0.189.0.0  0.0.49.0.0  0.1.12.0.0   0.1.192.0.0  0.1.52.0.0\r\n",
      "0.0.117.0.0  0.0.19.0.0   0.0.5.0.0   0.1.120.0.0  0.1.193.0.0  0.1.53.0.0\r\n",
      "0.0.118.0.0  0.0.190.0.0  0.0.50.0.0  0.1.121.0.0  0.1.194.0.0  0.1.54.0.0\r\n",
      "0.0.119.0.0  0.0.191.0.0  0.0.51.0.0  0.1.122.0.0  0.1.195.0.0  0.1.55.0.0\r\n",
      "0.0.12.0.0   0.0.192.0.0  0.0.52.0.0  0.1.123.0.0  0.1.196.0.0  0.1.56.0.0\r\n",
      "0.0.120.0.0  0.0.193.0.0  0.0.53.0.0  0.1.124.0.0  0.1.197.0.0  0.1.57.0.0\r\n",
      "0.0.121.0.0  0.0.194.0.0  0.0.54.0.0  0.1.125.0.0  0.1.198.0.0  0.1.58.0.0\r\n",
      "0.0.122.0.0  0.0.195.0.0  0.0.55.0.0  0.1.126.0.0  0.1.199.0.0  0.1.59.0.0\r\n",
      "0.0.123.0.0  0.0.196.0.0  0.0.56.0.0  0.1.127.0.0  0.1.2.0.0    0.1.6.0.0\r\n",
      "0.0.124.0.0  0.0.197.0.0  0.0.57.0.0  0.1.128.0.0  0.1.20.0.0   0.1.60.0.0\r\n",
      "0.0.125.0.0  0.0.198.0.0  0.0.58.0.0  0.1.129.0.0  0.1.200.0.0  0.1.61.0.0\r\n",
      "0.0.126.0.0  0.0.199.0.0  0.0.59.0.0  0.1.13.0.0   0.1.201.0.0  0.1.62.0.0\r\n",
      "0.0.127.0.0  0.0.2.0.0    0.0.6.0.0   0.1.130.0.0  0.1.202.0.0  0.1.63.0.0\r\n",
      "0.0.128.0.0  0.0.20.0.0   0.0.60.0.0  0.1.131.0.0  0.1.203.0.0  0.1.64.0.0\r\n",
      "0.0.129.0.0  0.0.200.0.0  0.0.61.0.0  0.1.132.0.0  0.1.204.0.0  0.1.65.0.0\r\n",
      "0.0.13.0.0   0.0.201.0.0  0.0.62.0.0  0.1.133.0.0  0.1.205.0.0  0.1.66.0.0\r\n",
      "0.0.130.0.0  0.0.202.0.0  0.0.63.0.0  0.1.134.0.0  0.1.206.0.0  0.1.67.0.0\r\n",
      "0.0.131.0.0  0.0.203.0.0  0.0.64.0.0  0.1.135.0.0  0.1.207.0.0  0.1.68.0.0\r\n",
      "0.0.132.0.0  0.0.204.0.0  0.0.65.0.0  0.1.136.0.0  0.1.208.0.0  0.1.69.0.0\r\n",
      "0.0.133.0.0  0.0.205.0.0  0.0.66.0.0  0.1.137.0.0  0.1.209.0.0  0.1.7.0.0\r\n",
      "0.0.134.0.0  0.0.206.0.0  0.0.67.0.0  0.1.138.0.0  0.1.21.0.0   0.1.70.0.0\r\n",
      "0.0.135.0.0  0.0.207.0.0  0.0.68.0.0  0.1.139.0.0  0.1.210.0.0  0.1.71.0.0\r\n",
      "0.0.136.0.0  0.0.208.0.0  0.0.69.0.0  0.1.14.0.0   0.1.211.0.0  0.1.72.0.0\r\n",
      "0.0.137.0.0  0.0.209.0.0  0.0.7.0.0   0.1.140.0.0  0.1.212.0.0  0.1.73.0.0\r\n",
      "0.0.138.0.0  0.0.21.0.0   0.0.70.0.0  0.1.141.0.0  0.1.213.0.0  0.1.74.0.0\r\n",
      "0.0.139.0.0  0.0.210.0.0  0.0.71.0.0  0.1.142.0.0  0.1.214.0.0  0.1.75.0.0\r\n",
      "0.0.14.0.0   0.0.211.0.0  0.0.72.0.0  0.1.143.0.0  0.1.215.0.0  0.1.76.0.0\r\n",
      "0.0.140.0.0  0.0.212.0.0  0.0.73.0.0  0.1.144.0.0  0.1.216.0.0  0.1.77.0.0\r\n",
      "0.0.141.0.0  0.0.213.0.0  0.0.74.0.0  0.1.145.0.0  0.1.217.0.0  0.1.78.0.0\r\n",
      "0.0.142.0.0  0.0.214.0.0  0.0.75.0.0  0.1.146.0.0  0.1.218.0.0  0.1.79.0.0\r\n",
      "0.0.143.0.0  0.0.215.0.0  0.0.76.0.0  0.1.147.0.0  0.1.219.0.0  0.1.8.0.0\r\n",
      "0.0.144.0.0  0.0.216.0.0  0.0.77.0.0  0.1.148.0.0  0.1.22.0.0   0.1.80.0.0\r\n",
      "0.0.145.0.0  0.0.217.0.0  0.0.78.0.0  0.1.149.0.0  0.1.220.0.0  0.1.81.0.0\r\n",
      "0.0.146.0.0  0.0.218.0.0  0.0.79.0.0  0.1.15.0.0   0.1.221.0.0  0.1.82.0.0\r\n",
      "0.0.147.0.0  0.0.219.0.0  0.0.8.0.0   0.1.150.0.0  0.1.222.0.0  0.1.83.0.0\r\n",
      "0.0.148.0.0  0.0.22.0.0   0.0.80.0.0  0.1.151.0.0  0.1.223.0.0  0.1.84.0.0\r\n",
      "0.0.149.0.0  0.0.220.0.0  0.0.81.0.0  0.1.152.0.0  0.1.224.0.0  0.1.85.0.0\r\n",
      "0.0.15.0.0   0.0.221.0.0  0.0.82.0.0  0.1.153.0.0  0.1.225.0.0  0.1.86.0.0\r\n",
      "0.0.150.0.0  0.0.222.0.0  0.0.83.0.0  0.1.154.0.0  0.1.226.0.0  0.1.87.0.0\r\n",
      "0.0.151.0.0  0.0.223.0.0  0.0.84.0.0  0.1.155.0.0  0.1.227.0.0  0.1.88.0.0\r\n",
      "0.0.152.0.0  0.0.224.0.0  0.0.85.0.0  0.1.156.0.0  0.1.228.0.0  0.1.89.0.0\r\n",
      "0.0.153.0.0  0.0.225.0.0  0.0.86.0.0  0.1.157.0.0  0.1.229.0.0  0.1.9.0.0\r\n",
      "0.0.154.0.0  0.0.226.0.0  0.0.87.0.0  0.1.158.0.0  0.1.23.0.0   0.1.90.0.0\r\n",
      "0.0.155.0.0  0.0.227.0.0  0.0.88.0.0  0.1.159.0.0  0.1.230.0.0  0.1.91.0.0\r\n",
      "0.0.156.0.0  0.0.228.0.0  0.0.89.0.0  0.1.16.0.0   0.1.231.0.0  0.1.92.0.0\r\n",
      "0.0.157.0.0  0.0.229.0.0  0.0.9.0.0   0.1.160.0.0  0.1.232.0.0  0.1.93.0.0\r\n",
      "0.0.158.0.0  0.0.23.0.0   0.0.90.0.0  0.1.161.0.0  0.1.233.0.0  0.1.94.0.0\r\n",
      "0.0.159.0.0  0.0.230.0.0  0.0.91.0.0  0.1.162.0.0  0.1.234.0.0  0.1.95.0.0\r\n",
      "0.0.16.0.0   0.0.231.0.0  0.0.92.0.0  0.1.163.0.0  0.1.235.0.0  0.1.96.0.0\r\n",
      "0.0.160.0.0  0.0.232.0.0  0.0.93.0.0  0.1.164.0.0  0.1.24.0.0   0.1.97.0.0\r\n",
      "0.0.161.0.0  0.0.233.0.0  0.0.94.0.0  0.1.165.0.0  0.1.25.0.0   0.1.98.0.0\r\n",
      "0.0.162.0.0  0.0.234.0.0  0.0.95.0.0  0.1.166.0.0  0.1.26.0.0   0.1.99.0.0\r\n",
      "0.0.163.0.0  0.0.235.0.0  0.0.96.0.0  0.1.167.0.0  0.1.27.0.0   .zarray\r\n",
      "0.0.164.0.0  0.0.24.0.0   0.0.97.0.0  0.1.168.0.0  0.1.28.0.0\r\n",
      "0.0.165.0.0  0.0.25.0.0   0.0.98.0.0  0.1.169.0.0  0.1.29.0.0\r\n",
      "0.0.166.0.0  0.0.26.0.0   0.0.99.0.0  0.1.17.0.0   0.1.3.0.0\r\n",
      "0.0.167.0.0  0.0.27.0.0   0.1.0.0.0   0.1.170.0.0  0.1.30.0.0\r\n",
      "0.0.168.0.0  0.0.28.0.0   0.1.1.0.0   0.1.171.0.0  0.1.31.0.0\r\n"
     ]
    }
   ],
   "source": [
    "%ls -a image.zarr/0"
   ]
  },
  {
   "cell_type": "code",
   "execution_count": null,
   "metadata": {},
   "outputs": [
    {
     "name": "stdout",
     "output_type": "stream",
     "text": [
      "{\r\n",
      "    \"chunks\": [\r\n",
      "        1,\r\n",
      "        1,\r\n",
      "        1,\r\n",
      "        275,\r\n",
      "        271\r\n",
      "    ],\r\n",
      "    \"compressor\": {\r\n",
      "        \"blocksize\": 0,\r\n",
      "        \"clevel\": 5,\r\n",
      "        \"cname\": \"lz4\",\r\n",
      "        \"id\": \"blosc\",\r\n",
      "        \"shuffle\": 1\r\n",
      "    },\r\n",
      "    \"dtype\": \">u2\",\r\n",
      "    \"fill_value\": 0,\r\n",
      "    \"filters\": null,\r\n",
      "    \"order\": \"C\",\r\n",
      "    \"shape\": [\r\n",
      "        1,\r\n",
      "        2,\r\n",
      "        236,\r\n",
      "        275,\r\n",
      "        271\r\n",
      "    ],\r\n",
      "    \"zarr_format\": 2\r\n",
      "}"
     ]
    }
   ],
   "source": [
    "%cat image.zarr/0/.zarray"
   ]
  },
  {
   "cell_type": "code",
   "execution_count": null,
   "metadata": {},
   "outputs": [
    {
     "data": {
      "text/plain": [
       "<zarr.hierarchy.Group '/'>"
      ]
     },
     "execution_count": null,
     "metadata": {},
     "output_type": "execute_result"
    }
   ],
   "source": [
    "import zarr\n",
    "group = zarr.open('image.zarr')\n",
    "group"
   ]
  },
  {
   "cell_type": "code",
   "execution_count": null,
   "metadata": {},
   "outputs": [
    {
     "data": {
      "text/plain": [
       "dict_keys(['multiscales', 'omero'])"
      ]
     },
     "execution_count": null,
     "metadata": {},
     "output_type": "execute_result"
    }
   ],
   "source": [
    "group.attrs.keys()"
   ]
  },
  {
   "cell_type": "code",
   "execution_count": null,
   "metadata": {},
   "outputs": [
    {
     "data": {
      "text/plain": [
       "[{'datasets': [{'path': '0'}, {'path': '1'}], 'version': '0.1'}]"
      ]
     },
     "execution_count": null,
     "metadata": {},
     "output_type": "execute_result"
    }
   ],
   "source": [
    "group.attrs['multiscales']"
   ]
  },
  {
   "cell_type": "code",
   "execution_count": null,
   "metadata": {},
   "outputs": [
    {
     "data": {
      "text/plain": [
       "['0', '1']"
      ]
     },
     "execution_count": null,
     "metadata": {},
     "output_type": "execute_result"
    }
   ],
   "source": [
    "list(group.keys())"
   ]
  },
  {
   "cell_type": "code",
   "execution_count": null,
   "metadata": {},
   "outputs": [],
   "source": [
    "scale0 = group['0']"
   ]
  },
  {
   "cell_type": "code",
   "execution_count": null,
   "metadata": {},
   "outputs": [
    {
     "data": {
      "text/plain": [
       "<zarr.core.Array '/0' (1, 2, 236, 275, 271) >u2>"
      ]
     },
     "execution_count": null,
     "metadata": {},
     "output_type": "execute_result"
    }
   ],
   "source": [
    "scale0"
   ]
  },
  {
   "cell_type": "code",
   "execution_count": null,
   "metadata": {},
   "outputs": [
    {
     "data": {
      "text/plain": [
       "array([[[[[ 8,  9,  8, ...,  9,  9, 10],\n",
       "          [ 9,  9,  9, ...,  8,  9,  9],\n",
       "          [ 8,  8,  8, ..., 26, 40,  8],\n",
       "          ...,\n",
       "          [ 9,  9,  9, ...,  9, 10, 14],\n",
       "          [ 8,  9, 10, ...,  9, 10,  9],\n",
       "          [ 9,  8, 10, ..., 10,  8,  8]],\n",
       "\n",
       "         [[ 9,  9,  9, ...,  8, 11, 11],\n",
       "          [ 9,  8,  9, ..., 10,  9, 10],\n",
       "          [ 9, 16,  9, ..., 39, 30,  9],\n",
       "          ...,\n",
       "          [10,  9, 10, ..., 10, 10,  9],\n",
       "          [10,  8, 10, ..., 10, 10, 10],\n",
       "          [10, 11,  9, ...,  9, 10, 10]],\n",
       "\n",
       "         [[ 9,  9,  9, ..., 14,  7, 15],\n",
       "          [ 9,  9,  9, ..., 10,  9,  9],\n",
       "          [ 8,  9,  9, ...,  9, 67,  8],\n",
       "          ...,\n",
       "          [ 8,  9,  9, ...,  9, 19,  9],\n",
       "          [ 8,  9,  8, ...,  7,  9, 10],\n",
       "          [ 7,  9,  9, ...,  9,  9, 10]],\n",
       "\n",
       "         ...,\n",
       "\n",
       "         [[ 8,  9, 57, ...,  9,  9,  8],\n",
       "          [ 8,  9,  8, ...,  7,  8,  9],\n",
       "          [21,  9,  9, ...,  8,  9,  7],\n",
       "          ...,\n",
       "          [ 9,  9,  8, ...,  7,  8,  9],\n",
       "          [14,  9,  7, ...,  8,  9,  9],\n",
       "          [ 8,  9,  9, ...,  9,  7, 39]],\n",
       "\n",
       "         [[ 7,  9,  7, ...,  8,  8,  9],\n",
       "          [ 9,  8,  8, ...,  7,  8,  9],\n",
       "          [ 8,  9,  9, ..., 11,  9,  8],\n",
       "          ...,\n",
       "          [ 9,  8, 13, ...,  9,  7,  7],\n",
       "          [ 9,  8,  9, ...,  9,  8,  8],\n",
       "          [ 9, 21,  9, ..., 23, 10,  9]],\n",
       "\n",
       "         [[ 8,  8,  8, ..., 17, 61,  9],\n",
       "          [ 9,  8, 28, ..., 55,  9,  9],\n",
       "          [10,  8,  9, ...,  9,  9,  9],\n",
       "          ...,\n",
       "          [ 8,  9, 10, ...,  9,  9,  9],\n",
       "          [ 9,  9,  9, ...,  9,  8,  8],\n",
       "          [ 8,  8,  9, ...,  9,  9,  9]]],\n",
       "\n",
       "\n",
       "        [[[28, 27, 28, ..., 26, 34, 34],\n",
       "          [28, 28, 26, ..., 54, 28, 27],\n",
       "          [27, 28, 28, ..., 29, 28, 28],\n",
       "          ...,\n",
       "          [26, 27, 27, ..., 27, 28, 26],\n",
       "          [27, 26, 28, ..., 30, 26, 27],\n",
       "          [51, 27, 28, ..., 35, 45, 26]],\n",
       "\n",
       "         [[28, 29, 28, ..., 27, 28, 28],\n",
       "          [29, 27, 28, ..., 29, 28, 28],\n",
       "          [28, 29, 28, ..., 27, 27, 26],\n",
       "          ...,\n",
       "          [27, 27, 29, ..., 29, 27, 27],\n",
       "          [28, 27, 27, ..., 28, 27, 28],\n",
       "          [27, 27, 27, ..., 27, 29, 27]],\n",
       "\n",
       "         [[29, 27, 28, ..., 33, 28, 27],\n",
       "          [27, 28, 40, ..., 31, 29, 28],\n",
       "          [28, 28, 28, ..., 26, 27, 28],\n",
       "          ...,\n",
       "          [28, 28, 28, ..., 28, 28, 27],\n",
       "          [28, 27, 28, ..., 30, 29, 32],\n",
       "          [27, 28, 28, ..., 28, 28, 43]],\n",
       "\n",
       "         ...,\n",
       "\n",
       "         [[32, 28, 28, ..., 38, 52, 28],\n",
       "          [28, 28, 27, ..., 26, 33, 27],\n",
       "          [27, 28, 28, ..., 28, 37, 27],\n",
       "          ...,\n",
       "          [28, 28, 28, ..., 29, 28, 51],\n",
       "          [27, 29, 28, ..., 28, 29, 28],\n",
       "          [28, 37, 28, ..., 28, 28, 52]],\n",
       "\n",
       "         [[28, 29, 27, ..., 31, 30, 37],\n",
       "          [30, 27, 28, ..., 28, 28, 32],\n",
       "          [28, 29, 32, ..., 31, 46, 29],\n",
       "          ...,\n",
       "          [29, 27, 29, ..., 28, 36, 29],\n",
       "          [29, 29, 28, ..., 29, 28, 28],\n",
       "          [28, 28, 29, ..., 27, 29, 28]],\n",
       "\n",
       "         [[33, 27, 27, ..., 35, 42, 28],\n",
       "          [28, 28, 28, ..., 29, 28, 43],\n",
       "          [28, 28, 27, ..., 28, 27, 28],\n",
       "          ...,\n",
       "          [28, 28, 28, ..., 27, 27, 40],\n",
       "          [28, 27, 29, ..., 28, 31, 27],\n",
       "          [27, 27, 28, ..., 27, 44, 32]]]]], dtype=uint16)"
      ]
     },
     "execution_count": null,
     "metadata": {},
     "output_type": "execute_result"
    }
   ],
   "source": [
    "import numpy as np\n",
    "np.asarray(scale0)"
   ]
  },
  {
   "cell_type": "code",
   "execution_count": null,
   "metadata": {},
   "outputs": [],
   "source": []
  }
 ],
 "metadata": {
  "kernelspec": {
   "display_name": "Python 3",
   "language": "python",
   "name": "python3"
  }
 },
 "nbformat": 4,
 "nbformat_minor": 4
}
