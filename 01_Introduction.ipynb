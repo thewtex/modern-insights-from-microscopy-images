{
 "cells": [
  {
   "cell_type": "markdown",
   "metadata": {},
   "source": [
    "#  Introduction to Modern, Web-based Methodologies"
   ]
  },
  {
   "cell_type": "markdown",
   "metadata": {},
   "source": [
    "## Learning Objectives\n",
    "\n",
    "- What are modern, web-based image analysis methods?\n",
    "- Why are web-based methods relevant for large images and reproducibility?\n",
    "- How does open source software fit into the computational ecosystem? "
   ]
  },
  {
   "cell_type": "markdown",
   "metadata": {},
   "source": [
    "## Modern, web-based image analysis and visualization"
   ]
  },
  {
   "cell_type": "markdown",
   "metadata": {},
   "source": [
    "What is modern, web-based imaging analysis and visualization?\n",
    "\n",
    "1. The user interface is **web browser**\n",
    "2. Defacto communication on the internet with the **HTTPS** protocol\n",
    "3. Computation can happen in the **cloud**"
   ]
  },
  {
   "cell_type": "markdown",
   "metadata": {},
   "source": [
    "## Important Technologies"
   ]
  },
  {
   "cell_type": "markdown",
   "metadata": {},
   "source": [
    "### Evergreen browsers\n",
    "\n",
    "![Evergreen browsers](./images/evergreen-browsers.jpg)\n",
    "\n",
    "An **evergreen browser** releases frequently, striving for up-to-date and comprehensive support for *[web standards](https://en.wikipedia.org/wiki/Web_standards)*.\n",
    "\n",
    "Modern evergreen browsers include:\n",
    "\n",
    "- Google Chrome\n",
    "- Mozilla Firefox\n",
    "- Microsoft Edge\n",
    "- Opera\n",
    "- Apple Safari\n",
    "\n",
    "Note that Chrome, Edge, and Opera are all based on the same open source Chromium foundation. Safari often lags behind or is limited in standard support. Internet Explorer is no longer supported by Microsoft as of August 17, 2021, but lacks support for many Modern Web standard features."
   ]
  },
  {
   "cell_type": "markdown",
   "metadata": {},
   "source": [
    "### Programming Languages"
   ]
  },
  {
   "cell_type": "markdown",
   "metadata": {},
   "source": [
    "#### Client-side programming languages\n",
    "\n",
    "![JavaScript](./images/js_js_js.png)\n",
    "\n",
    "Client-side programming languages are languages that run web browser page."
   ]
  },
  {
   "cell_type": "markdown",
   "metadata": {},
   "source": [
    "**JavaScript (JS)** is the *language of the web.* A working knowledge of JS is [a useful skill](https://www.youtube.com/watch?v=dFUlAQZB9Ng).\n",
    "\n",
    "![JS](./images/js.png)\n",
    "\n",
    "- JavaScript is the only language with ubiquitous support across modern web browsers.\n",
    "- Modern JavaScript runtimes are highly engineered and very performant.\n",
    "- JavaScript can also executed server side -- [*Node.js*](https://nodejs.org/en/) is the most popular server-side runtime.\n",
    "- JavaScript has one of the largest software package ecosystems: the [Node package manager, NPM, the npm registry, and the npm CLI](https://www.npmjs.com/).\n",
    "- The JavaScript language standard, [ECMAScript](https://en.wikipedia.org/wiki/ECMAScript), is a rapidly evolving, modern language. The most recent version is ES2020.\n",
    "- Most client-side code deployed on websites, whether written in JS or another language, is transpiled down to ECMAScript version 5 with Node.js.\n",
    "- The [Mozilla Developer Network (MDN)](https://developer.mozilla.org/en-US/docs/Web/JavaScript) is the best place to find JavaScript-related documentation."
   ]
  },
  {
   "cell_type": "markdown",
   "metadata": {},
   "source": [
    "**TypeScript (TS)** is a superset of JavaScript that adds optional static type definitions.\n",
    "\n",
    "![TS](./images/ts.svg)\n",
    "\n",
    "- Typescript is a popular alternative to JavaScript for writing client-side code.\n",
    "- When Typescript is transpiled to JavaScript for deployment, static type checking occurs.\n",
    "- In addition to compilation error checking, explicit types in interfaces and other typed language advantages are available, e.g. IDE features.\n",
    "- Many language features that used to be unique to TypeScript, e.g. classes, have now been adopted into the JavaScript language standard."
   ]
  },
  {
   "cell_type": "markdown",
   "metadata": {},
   "source": [
    "Other languages can be compiled into **WebAssembly (Wasm)**, a portable compilation target enabling deployment on the web for client and server applications.\n",
    "\n",
    "![Wasm](./images/wasm.png)\n",
    "\n",
    "- WebAssembly is efficient and fast.\n",
    "- Wasm can be transmitted in a binary format.\n",
    "- Wasm supports hardware capabilities such as [atomics](https://courses.cs.washington.edu/courses/cse378/07au/lectures/L25-Atomic-Operations.pdf) and [SIMD](https://en.wikipedia.org/wiki/SIMD).\n",
    "- Wasm focuses on secure, memory-safe sandboxed execution in the browser.\n",
    "- Wasm runs on the same virtual machine as JavaScript, and it is debuggable in browsers.\n",
    "- Wasm is part of the open web platform, supported by all major browsers.\n",
    "- Wasm aims to be backwards compatible.\n",
    "- A JavaScript API is provided ito interface with WebAssembly.\n",
    "\n",
    "Performant image processing code can be written in the following languages, and compiled to Wasm:\n",
    "\n",
    "- C/C++ via [Emscripten](https://emscripten.org/)\n",
    "- Rust\n",
    "- Java"
   ]
  },
  {
   "cell_type": "markdown",
   "metadata": {},
   "source": [
    " Other browser **web standards** *important for scientific imaging* include: \n",
    " \n",
    "![WebGL](./images/webgl.svg)\n",
    "\n",
    "- **[WebGL](https://www.khronos.org/webgl/)**: a *web standard for a low-level 3D graphics API based on OpenGL ES, exposed to ECMAScript via the HTML5 Canvas.*\n",
    "- **[WebGPU](https://gpuweb.github.io/gpuweb/)**: *an API that exposes the capabilities of GPU hardware for the Web. The API is designed from the ground up to efficiently map to the Vulkan, Direct3D 12, and Metal native GPU APIs. WebGPU is not related to WebGL and does not explicitly target OpenGL ES.*\n",
    "- **Web Worker's**: Runs JavaScript in background threads separate from a web page's main thread. Useful for parallelism.\n",
    "- **ServiceWorker's**: another *worker* that acts as a proxy between the web browser page and the network. It can be used to *cache assets* to provide fast web apps with *offline* functionality."
   ]
  },
  {
   "cell_type": "markdown",
   "metadata": {},
   "source": [
    "Server-side programming languages for web-based imaging include:\n",
    "\n",
    "- *Python*\n",
    "- Java\n",
    "- Rust\n",
    "- JavaScript\n",
    "- C++"
   ]
  },
  {
   "cell_type": "markdown",
   "metadata": {},
   "source": [
    "### Web-based storage\n",
    "\n",
    "Discussed in the [data storage](./04_Data_Storage.ipynb) tutorial."
   ]
  },
  {
   "cell_type": "markdown",
   "metadata": {},
   "source": [
    "### Cloud compute\n",
    "\n",
    "Discussed in the [distributed image processing](./05_Distributed_Processing.ipynb) tutorial."
   ]
  },
  {
   "cell_type": "markdown",
   "metadata": {},
   "source": [
    "### Communication\n",
    "\n",
    "Communication web standard for scientific imaging include:\n",
    "\n",
    "- **REST**: *[Representational state transfer (REST)](https://en.wikipedia.org/wiki/Representational_state_transfer) is a software architectural style that defines a set of constraints to be used for creating Web services. HTTP-based RESTful APIs are defined with the following aspects: a base URI, such as http://api.example.com/, standard HTTP methods (e.g., GET, POST, PUT, and DELETE),\n",
    "and, a media type that defines state transition data element.*\n",
    "- **WebSockets** - a two-way communication channel that is more performant than HTTP requests. Used by Jupyter, Colab, etc.\n",
    "- **[IPFS](https://en.wikipedia.org/wiki/InterPlanetary_File_System)** - *The InterPlanetary File System (IPFS) is a protocol and peer-to-peer network for storing and sharing data in a distributed file system.*"
   ]
  },
  {
   "cell_type": "markdown",
   "metadata": {},
   "source": [
    "## Web-based methods, large images, and reproducibility"
   ]
  },
  {
   "cell_type": "markdown",
   "metadata": {},
   "source": [
    "**Why are web-based methods uniquely appropriate for working with extremely large images?**\n",
    "\n"
   ]
  },
  {
   "cell_type": "markdown",
   "metadata": {},
   "source": [
    "- Natural approach to remote storage\n",
    "    - Helpful when data needs to be stored near the microscope or in the *cloud*\n",
    "    - **Warning**: however, data-compute locality is often critical for performance!\n",
    "- Partial image chunks can be fetched on demand for analysis or visualization\n",
    "- Compression is a natural and commonplace component"
   ]
  },
  {
   "cell_type": "markdown",
   "metadata": {},
   "source": [
    "**Why do web-based methods uniquely support reproducibility?**\n",
    "\n",
    "- Truely write once, run everywhere\n",
    "- Backwards and forwards compatibility\n",
    "- A standards-based ecosystem\n",
    "- Distributed compute and storage resources, which improves sustainability     "
   ]
  },
  {
   "cell_type": "markdown",
   "metadata": {},
   "source": [
    "## Modern methods and traditional open source imaging software\n",
    "\n",
    "**How to modern web-based methods extend and interface with traditional open source scientific imaging software?**\n",
    "\n",
    "\n",
    "- **ImJoy**\n",
    "    - [ImJoy](https://imjoy.io/docs/#/) is a plugin-powered hybrid computing platform for deploying deep learning applications such as advanced image analysis tools.\n",
    "    - JavaScript or Python-based plugins.\n",
    "    - Take the dedicated [I2K ImJoy tutorial](https://www.janelia.org/sites/default/files/You%20%2B%20Janelia/Conferences/10.pdf).\n",
    "    - Read [the paper](https://rdcu.be/bYbGO).\n",
    "- [ImageJ.js](https://ij.imjoy.io/) - ImageJ compiled to WebAssembly and exposed with ImJoy.  \n",
    "- [itk.js](https://insightsoftwareconsortium.github.io/itk-js/index.html): itk.js combines Emscripten and ITK to enable high-performance spatial analysis in a JavaScript runtime environment.\n",
    "- [pyodide](https://github.com/iodide-project/pyodide/): CPython scientific Python libraries, e.g. scikit-image, compiled to WebAssembly.\n",
    "- [Jupyter](https://jupyter.org/): browser-based literate programming, combining interactive code, equations, and visualizations\n",
    "    - [JupyterLab](https://jupyterlab.readthedocs.io/en/stable/): next generation browser interface, more JavaScript focus.\n",
    "    - [Colab](https://colab.research.google.com/notebooks/intro.ipynb#recent=true): alternative Jupyter notebook interface with GPGPU hardware backends for deep learning and Google integrations. \n",
    "    - [Voila](https://github.com/voila-dashboards/voila): quickly turn Jupyter notebooks into standalone web applications."
   ]
  },
  {
   "cell_type": "markdown",
   "metadata": {},
   "source": [
    "## Exercise: Learn about the web-browser development environment"
   ]
  },
  {
   "cell_type": "code",
   "execution_count": null,
   "metadata": {},
   "outputs": [],
   "source": []
  }
 ],
 "metadata": {
  "kernelspec": {
   "display_name": "Python 3",
   "language": "python",
   "name": "python3"
  }
 },
 "nbformat": 4,
 "nbformat_minor": 4
}
