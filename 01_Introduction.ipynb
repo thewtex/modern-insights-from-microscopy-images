{
 "cells": [
  {
   "cell_type": "markdown",
   "metadata": {},
   "source": [
    "#  Introduction to Modern, Web-based Methodologies"
   ]
  },
  {
   "cell_type": "markdown",
   "metadata": {},
   "source": [
    "## Learning Objectives\n",
    "\n",
    "- What are modern, web-based image analysis methods?\n",
    "- Why are web-based methods relevant for large images and reproducibility?\n",
    "- How does open source software fit into the computational ecosystem? "
   ]
  },
  {
   "cell_type": "markdown",
   "metadata": {},
   "source": [
    "## Modern, web-based image analysis and visualization"
   ]
  },
  {
   "cell_type": "markdown",
   "metadata": {},
   "source": [
    "What is modern, web-based imaging analysis and visualization?\n",
    "\n",
    "1. The user interface is **web browser**\n",
    "2. Defacto communication on the internet with the **HTTP(S)** protocol\n",
    "3. Computation can happen in the **cloud**\n",
    "\n",
    "- Technologies\n",
    "\n",
    "  - Evergreen browsers\n",
    "  \n",
    "  - Programming languages\n",
    "  - JavaScript, Typescript\n",
    "  - Python/C++/Java/Rust\n",
    "  - Server side\n",
    "        - Python/C++/Java/Rust\n",
    "  - Client side\n",
    "      WebAssembly\n",
    "   \n",
    "  - Client side computation\n",
    "      - WebAssembly\n",
    "      - WebGL\n",
    "      - WebGPU\n",
    "      - WebWorkers\n",
    "      - ServiceWorkers\n",
    "\n",
    "  - Blob-based storage\n",
    "  \n",
    "  - Cloud computation\n",
    "      - Short running functional units\n",
    "      - Long running computation\n",
    "        - Managed kubernetes\n",
    "        - RabbitMQ\n",
    "        \n",
    "  - Communication\n",
    "      - REST\n",
    "      - WebSockets\n",
    "      - WebRTC\n",
    "      - IPFS"
   ]
  },
  {
   "cell_type": "markdown",
   "metadata": {},
   "source": [
    "## Important Technologies"
   ]
  },
  {
   "cell_type": "markdown",
   "metadata": {},
   "source": [
    "### Evergreen browsers\n",
    "\n",
    "![Evergreen browsers](./images/evergreen-browsers.jpg)\n",
    "\n",
    "An **evergreen browser** releases frequently, striving for up-to-date and comprehensive support for *[web standards](https://en.wikipedia.org/wiki/Web_standards)*.\n",
    "\n",
    "Modern evergreen browsers include:\n",
    "\n",
    "- Google Chrome\n",
    "- Mozilla Firefox\n",
    "- Microsoft Edge\n",
    "- Opera\n",
    "- Apple Safari\n",
    "\n",
    "Note that Chrome, Edge, and Opera are all based on the same open source Chromium foundation. Safari often lags behind or is limited in standard support. Internet Explorer is no longer supported by Microsoft as of August 17, 2021, but lacks support for many Modern Web standard features."
   ]
  },
  {
   "cell_type": "code",
   "execution_count": null,
   "metadata": {},
   "outputs": [],
   "source": []
  },
  {
   "cell_type": "markdown",
   "metadata": {},
   "source": [
    " - Large images\n",
    " \n",
    "     - Remote storage\n",
    "     - On demand\n",
    "     - Partial requests\n",
    "     - Compression\n",
    "     \n",
    " - Reproducibility\n",
    "     - Write once, run everywhere\n",
    "     - Backwards and forwards compatibility\n",
    "     - Distributed resources, sustainability\n",
    "     \n",
    "     \n",
    " - Open source software\n",
    "     - ImJoy - ImJoying Interactive Bioimage Analysis with Deep Learning, ImageJ.JS & Friends https://www.janelia.org/sites/default/files/You%20%2B%20Janelia/Conferences/10.pdf\n",
    "     - ij.imjoy   \n",
    "     - itk.js\n",
    "     - pyodide\n",
    "     - Jupyter\n",
    "       - JupyterLab\n",
    "       - Colab\n",
    "       - Voila\n",
    "      - Distributed computation\n",
    "          - Dask\n",
    "          - Spark - Large data processing and visualization with ImgLib2, N5, Spark, BigDataViewer, and Paintera https://www.janelia.org/sites/default/files/You%20%2B%20Janelia/Conferences/3.pdf\n",
    "      - Data storage\n",
    "          - Zarr, N5, NGFF, Towards a community standard image file format for sharing big image data in the cloud https://www.janelia.org/sites/default/files/You%20%2B%20Janelia/Conferences/19.pdf"
   ]
  },
  {
   "cell_type": "markdown",
   "metadata": {},
   "source": [
    "Exercise: Learn about the web-browser development environment"
   ]
  },
  {
   "cell_type": "code",
   "execution_count": null,
   "metadata": {},
   "outputs": [],
   "source": []
  }
 ],
 "metadata": {
  "kernelspec": {
   "display_name": "Python 3",
   "language": "python",
   "name": "python3"
  }
 },
 "nbformat": 4,
 "nbformat_minor": 4
}
