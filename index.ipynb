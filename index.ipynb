{
 "cells": [
  {
   "cell_type": "markdown",
   "metadata": {},
   "source": [
    "[![I2K](https://www.janelia.org/sites/default/files/styles/adaptive/public/You%20%2B%20Janelia/Conferences/social%20card%20I2K.jpg)](https://www.janelia.org/you-janelia/conferences/from-images-to-knowledge-with-imagej-friends)"
   ]
  },
  {
   "cell_type": "markdown",
   "metadata": {},
   "source": [
    "# Modern Insights from Microscopy Images\n",
    "\n",
    ">  An Introduction to Web-based Methodologies"
   ]
  },
  {
   "cell_type": "markdown",
   "metadata": {},
   "source": [
    "Technological evolution poises modern, web-based methods as the future of bioimage\n",
    "analysis. Moreover, web-based methods are better suited to solve challenges such as\n",
    "extremely large images and reproducibility. In this tutorial, we will introduce the concepts,\n",
    "approaches, and tools for modern, web-based open source bioimage analysis. An introduction\n",
    "to the fundamentals of web-based imaging is covered through the topics of web-based image\n",
    "visualization, image data storage for the web, distributed image processing in the cloud,\n",
    "asynchronous programming, and re-usable deep learning components on the web. Content will\n",
    "be presented in Jupyter notebook modules consisting of oral presentations, interactive material,\n",
    "and hands-on exercises. "
   ]
  },
  {
   "cell_type": "markdown",
   "metadata": {},
   "source": [
    "## Installation"
   ]
  },
  {
   "cell_type": "markdown",
   "metadata": {},
   "source": [
    "[Install miniconda](https://docs.conda.io/projects/conda/en/latest/user-guide/install/),\n",
    "then:\n",
    "\n",
    "```\n",
    "conda env create --file environment.yml --name mi2\n",
    "conda activate mi2\n",
    "python -m jupyter notebook\n",
    "```"
   ]
  },
  {
   "cell_type": "markdown",
   "metadata": {},
   "source": [
    "## Sections"
   ]
  },
  {
   "cell_type": "markdown",
   "metadata": {},
   "source": [
    "1. [Introduction to Modern, Web-based Methodologies](./01_Introduction.ipynb)\n",
    "2. [Student Introductions](./02_Students.ipynb)\n",
    "3. [Web-based Image Visualization](./03_Visualization.ipynb)\n",
    "4. [Image Data Storage for the Web](./04_Data_Storage.ipynb)\n",
    "5. [Distributed Image Processing in the Cloud](./05_Distributed_Processing.ipynb)\n",
    "6. [Open, Re-usable Deep Learning Components on the Web](./06_Reusable_Components.ipynb)"
   ]
  }
 ],
 "metadata": {
  "kernelspec": {
   "display_name": "Python 3",
   "language": "python",
   "name": "python3"
  }
 },
 "nbformat": 4,
 "nbformat_minor": 2
}
