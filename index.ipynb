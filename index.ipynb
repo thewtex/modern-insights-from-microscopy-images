{
 "cells": [
  {
   "cell_type": "markdown",
   "metadata": {},
   "source": [
    "[![I2K](https://www.i2kconference.org/assets/images/banner-image.png)](https://www.i2kconference.org/)"
   ]
  },
  {
   "cell_type": "markdown",
   "metadata": {},
   "source": [
    "# Modern Insights from Microscopy Images\n",
    "\n",
    ">  An Introduction to Web-based Methodologies"
   ]
  },
  {
   "cell_type": "markdown",
   "metadata": {},
   "source": [
    "Technological evolution poises modern, web-based methods as the future of bioimage\n",
    "analysis. Moreover, web-based methods are better suited to solve challenges such as\n",
    "extremely large images and reproducibility. In this tutorial, we will introduce the concepts,\n",
    "approaches, and tools for modern, web-based open source bioimage analysis. An introduction\n",
    "to the fundamentals of web-based imaging is covered through the topics of web-based image\n",
    "visualization, image data storage for the web, distributed image processing in the cloud,\n",
    "asynchronous programming, and re-usable deep learning components on the web. Content will\n",
    "be presented in Jupyter notebook modules consisting of oral presentations, interactive material,\n",
    "and hands-on exercises. "
   ]
  },
  {
   "cell_type": "markdown",
   "metadata": {},
   "source": [
    "## Installation"
   ]
  },
  {
   "cell_type": "markdown",
   "metadata": {},
   "source": [
    "[Install miniforge](https://github.com/conda-forge/miniforge), then:\n",
    "\n",
    "```\n",
    "mamba env create --file environment.yml --name mi2\n",
    "conda activate mi2\n",
    "python3 -m jupyter notebook\n",
    "```"
   ]
  },
  {
   "cell_type": "markdown",
   "metadata": {},
   "source": [
    "## Sections"
   ]
  },
  {
   "cell_type": "markdown",
   "metadata": {},
   "source": [
    "1. [Introduction to Modern, Web-based Methodologies](./01_Introduction.ipynb)\n",
    "\n",
    "<a href=\"https://colab.research.google.com/github/thewtex/modern-insights-from-microscopy-images/blob/master/01_Introduction.ipynb\" target=\"_parent\"><img src=\"https://colab.research.google.com/assets/colab-badge.svg\" alt=\"Open In Colab\"/></a>\n",
    "\n",
    "2. [Web-based Image Visualization](./02_Visualization.ipynb)\n",
    "\n",
    "<a href=\"https://colab.research.google.com/github/thewtex/modern-insights-from-microscopy-images/blob/master/02_Visualization.ipynb\" target=\"_parent\"><img src=\"https://colab.research.google.com/assets/colab-badge.svg\" alt=\"Open In Colab\"/></a>\n",
    "\n",
    "3. [Image Data Storage for the Web](./03_Data_Storage.ipynb)\n",
    "\n",
    "\n",
    "<a href=\"https://colab.research.google.com/github/thewtex/modern-insights-from-microscopy-images/blob/master/03_Data_Storage.ipynb\" target=\"_parent\"><img src=\"https://colab.research.google.com/assets/colab-badge.svg\" alt=\"Open In Colab\"/></a>\n",
    "\n",
    "\n",
    "4. [Distributed Image Processing in the Cloud](./04_Distributed_Processing.ipynb)\n",
    "5. [Open, Re-usable Deep Learning Components on the Web](./05_Reusable_Components.ipynb)"
   ]
  }
 ],
 "metadata": {
  "kernelspec": {
   "display_name": "Python 3 (ipykernel)",
   "language": "python",
   "name": "python3"
  },
  "language_info": {
   "codemirror_mode": {
    "name": "ipython",
    "version": 3
   },
   "file_extension": ".py",
   "mimetype": "text/x-python",
   "name": "python",
   "nbconvert_exporter": "python",
   "pygments_lexer": "ipython3",
   "version": "3.9.0"
  }
 },
 "nbformat": 4,
 "nbformat_minor": 2
}
