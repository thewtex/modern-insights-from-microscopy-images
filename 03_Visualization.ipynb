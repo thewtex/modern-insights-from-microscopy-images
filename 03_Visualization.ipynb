{
 "cells": [
  {
   "cell_type": "markdown",
   "metadata": {},
   "source": [
    "# Web-based Image Visualization"
   ]
  },
  {
   "cell_type": "markdown",
   "metadata": {},
   "source": [
    "## Learning objectives\n",
    "\n",
    "- Understand the capabilities and limitations of **img, canvas, WebGL, WebAssembly,** and **WebGPU** browser technologies\n",
    "- Identify the trade-offs in **server-side** and **client-side** rendering\n",
    "- Become familiar with **open source, web-based scientific visualization tools** such as: itk-vtk-viewer, itkwidgets, kaibu, imagej.js, matplotlib, ipympl, neuroglancer, and the web-based capabilities of paraview, napari "
   ]
  },
  {
   "cell_type": "markdown",
   "metadata": {},
   "source": [
    "## Web browser rendering technologies"
   ]
  },
  {
   "cell_type": "markdown",
   "metadata": {},
   "source": [
    "### `img` elements\n",
    "\n",
    "The [HTML `img` element embeds](https://developer.mozilla.org/en-US/docs/Web/HTML/Element/img) an image into a webpage.\n",
    "\n",
    "*Capabilities:*\n",
    "\n",
    "- ✔ Ubiquitous support\n",
    "- ✔ Supported file formats: APNG, AVIF, GIF, JPEG, PNG, SVG, WebP\n",
    "- ✔ Possible to inline support for base64-encoded images\n",
    "\n",
    "*Limitations:*\n",
    "\n",
    "- ✘ Not well suited for dynamic content\n",
    "- ✘ Does not support multiple pixel component types, anisotropic spacing, 3D images"
   ]
  },
  {
   "cell_type": "code",
   "execution_count": null,
   "metadata": {},
   "outputs": [
    {
     "data": {
      "text/html": [
       "<img src=\"https://interactive-examples.mdn.mozilla.net/media/cc0-images/grapefruit-slice-332-332.jpg\">"
      ],
      "text/plain": [
       "<IPython.core.display.HTML object>"
      ]
     },
     "execution_count": null,
     "metadata": {},
     "output_type": "execute_result"
    }
   ],
   "source": [
    "# Example\n",
    "import IPython\n",
    "\n",
    "IPython.display.HTML('<img src=\"https://interactive-examples.mdn.mozilla.net/media/cc0-images/grapefruit-slice-332-332.jpg\">')"
   ]
  },
  {
   "cell_type": "markdown",
   "metadata": {},
   "source": [
    "### `canvas` elements\n",
    "\n",
    "The [HTML `canvas` element](https://developer.mozilla.org/en-US/docs/Web/HTML/Element/canvas) is capable of drawing 2D graphics and animations.\n",
    "\n",
    "*Capabilities:*\n",
    "\n",
    "- ✔ Ubiquitous support\n",
    "- ✔ Well suited for dynamic content\n",
    "- ✔ Low level API\n",
    "- ✔ Many JS libraries available for high level manipulation\n",
    "\n",
    "*Limitations:*\n",
    "\n",
    "- ✘ The Canvas API focuses on 2D graphics\n",
    "- ✘ Limited performance relative to WebGL, WebGPU"
   ]
  },
  {
   "cell_type": "code",
   "execution_count": null,
   "metadata": {},
   "outputs": [
    {
     "data": {
      "application/vnd.jupyter.widget-view+json": {
       "model_id": "56899f6b8ee64950bd1c5a6f266d2d06",
       "version_major": 2,
       "version_minor": 0
      },
      "text/plain": [
       "Canvas(height=600, width=600)"
      ]
     },
     "metadata": {},
     "output_type": "display_data"
    }
   ],
   "source": [
    "# canvas example\n",
    "# From: https://ipycanvas.readthedocs.io/en/latest/drawing_images.html\n",
    "import numpy as np\n",
    "\n",
    "from ipycanvas import Canvas\n",
    "\n",
    "x = np.linspace(-1, 1, 600)\n",
    "y = np.linspace(-1, 1, 600)\n",
    "\n",
    "x_grid, y_grid = np.meshgrid(x, y)\n",
    "\n",
    "blue_channel = np.array(np.sin(x_grid**2 + y_grid**2) * 255, dtype=np.int32)\n",
    "red_channel = np.zeros_like(blue_channel) + 200\n",
    "green_channel = np.zeros_like(blue_channel) + 50\n",
    "\n",
    "image_data = np.stack((red_channel, blue_channel, green_channel), axis=2)\n",
    "\n",
    "canvas = Canvas(width=image_data.shape[0], height=image_data.shape[1])\n",
    "canvas.put_image_data(image_data, 0, 0)\n",
    "\n",
    "canvas"
   ]
  },
  {
   "cell_type": "markdown",
   "metadata": {},
   "source": [
    "### WebGL\n",
    "\n",
    "Hardware accelerated 2D and 3D graphics that also draws on the `canvas` element.\n",
    "\n",
    "*Capabilities:*\n",
    "\n",
    "- ✔ Widespread support\n",
    "- ✔ Well suited for dynamic content\n",
    "- ✔ Great performance\n",
    "- ✔ Low level API\n",
    "- ✔ JS libraries available for high level manipulation, e.g. vtk.js, three.js\n",
    "- ✔ 3D support\n",
    "\n",
    "*Limitations:*\n",
    "\n",
    "- ✘ Resource limitations based on texture size, number of textures\n",
    "- ✘ WebGL 1.0 API that closely conforms to OpenGL ES 2.0 \n",
    "- ✘ WebGL 2.0 API introduces support for much of the OpenGL ES 3.0\n",
    "- ✘ Legacy technology relative to WebGPU"
   ]
  },
  {
   "cell_type": "code",
   "execution_count": null,
   "metadata": {},
   "outputs": [
    {
     "data": {
      "application/vnd.jupyter.widget-view+json": {
       "model_id": "7d3a4ba97492434987e74cd139529f3d",
       "version_major": 2,
       "version_minor": 0
      },
      "text/plain": [
       "Viewer(axes=True, geometries=[], gradient_opacity=0.9, point_sets=[], rendered_image=<itk.itkImagePython.itkIm…"
      ]
     },
     "metadata": {},
     "output_type": "display_data"
    }
   ],
   "source": [
    "# WebGL example\n",
    "# From: https://github.com/InsightSoftwareConsortium/itkwidgets/blob/master/examples/3DImage.ipynb\n",
    "from urllib.request import urlretrieve\n",
    "import os\n",
    "\n",
    "import itk\n",
    "\n",
    "from itkwidgets import view\n",
    "\n",
    "\n",
    "# Download data\n",
    "file_name = '005_32months_T2_RegT1_Reg2Atlas_ManualBrainMask_Stripped.nrrd'\n",
    "if not os.path.exists(file_name):\n",
    "    url = 'https://data.kitware.com/api/v1/file/564a5b078d777f7522dbfaa6/download'\n",
    "    urlretrieve(url, file_name)\n",
    "    \n",
    "\n",
    "image = itk.imread(file_name)\n",
    "view(image, axes=True, vmin=4000, vmax=17000, gradient_opacity=0.9)"
   ]
  },
  {
   "cell_type": "markdown",
   "metadata": {},
   "source": [
    "### WebGPU\n",
    "\n",
    "WebGPU is the working name for a future web standard and JavaScript API for accelerated graphics and compute, aiming to provide \"modern 3D graphics and computation capabilities\".\n",
    "\n",
    "*Capabilities:*\n",
    "\n",
    "- ✔ Great performance\n",
    "- ✔ Low level, modern graphics API\n",
    "- ✔ Can be compiled into SPIR-V, a cross-API intermediate representation\n",
    "- ✔ 3D support\n",
    "\n",
    "*Limitations:*\n",
    "\n",
    "- ✘ Still undergoing standardization\n",
    "- ✘ New shader language, *WGSL*\n",
    "- ✘ Not yet broadly available"
   ]
  },
  {
   "cell_type": "markdown",
   "metadata": {},
   "source": [
    "## Server-side vs Client-side Rendering"
   ]
  },
  {
   "cell_type": "markdown",
   "metadata": {},
   "source": [
    "Web-based visualization technologies generally fall into two broad categories:\n",
    "\n",
    "1. **Server-side rendering**: The data is rendered on a server, and the rendered screenshot is transferred over the network to the client.\n",
    "2. **Client-side rendering**: The data is rendered on the client. A server may or may not exist. A server may exist to dynamically generate a multi-scale pyramid, etc.\n",
    "\n",
    "The relative advantages are:\n",
    "\n",
    "#### Server-side rendering\n",
    "\n",
    "- ✔ A large server GPU can render for an underpowered client, e.g. a phone.\n",
    "- ✔ A large server GPU may have more graphics memory for an underpowered client.\n",
    "- ✔ Custom hardware capabilities and software APIs, e.g. raytracing, can be provided to all clients.\n",
    "- ✔ There is a shorter path to migrate traditional desktop applications to the web.\n",
    "- ✔ The raw data does not need to be transferred to the client.\n",
    "\n",
    "#### Client-side rendering\n",
    "\n",
    "- ✔ Performance and responsiveness are generally better -- the rendered image and interactive events do not need to be transferred over the network.\n",
    "- ✔ Infinitely scalable with the number of clients -- the server does not get overloaded.\n",
    "- ✔ Lower maintenance and resource costs -- a server often is not required.\n",
    "- ✔ A graphics card or complicated software graphics context is not required on a server.\n",
    "- ✔ Rendered data does not need to be continually sent over the network when interacting with the image."
   ]
  },
  {
   "cell_type": "code",
   "execution_count": null,
   "metadata": {},
   "outputs": [
    {
     "name": "stdout",
     "output_type": "stream",
     "text": [
      "Available matplotlib backends: ['tk', 'gtk', 'gtk3', 'wx', 'qt4', 'qt5', 'qt', 'osx', 'nbagg', 'notebook', 'agg', 'svg', 'pdf', 'ps', 'inline', 'ipympl', 'widget']\n"
     ]
    }
   ],
   "source": [
    "%matplotlib -l"
   ]
  },
  {
   "cell_type": "code",
   "execution_count": null,
   "metadata": {},
   "outputs": [],
   "source": []
  }
 ],
 "metadata": {
  "kernelspec": {
   "display_name": "Python 3",
   "language": "python",
   "name": "python3"
  }
 },
 "nbformat": 4,
 "nbformat_minor": 4
}
