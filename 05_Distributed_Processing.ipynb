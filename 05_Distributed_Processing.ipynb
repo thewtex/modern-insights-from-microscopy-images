{
 "cells": [
  {
   "cell_type": "markdown",
   "metadata": {},
   "source": [
    "# Distributed Image Processing in the Cloud "
   ]
  },
  {
   "cell_type": "markdown",
   "metadata": {},
   "source": [
    "## Learning objectives\n",
    "\n",
    "- Become familiar with **lazy, distributed Python image processing** with Dask\n",
    "- Learn how to start and interact with a **Coiled.io cloud cluster**\n",
    "- Understand why **consistent software environments** are required and how to create them"
   ]
  },
  {
   "cell_type": "markdown",
   "metadata": {},
   "source": [
    "## Distributed Python Image Processing with Dask"
   ]
  },
  {
   "cell_type": "markdown",
   "metadata": {},
   "source": [
    "![Dask overview](https://docs.dask.org/en/latest/_images/dask-overview.svg)\n",
    "\n",
    "[Dask](https://dask.org/) is *a Python-based, flexible library for parallel computing*. Dask provides dynamic task scheduling optimized for interactive computing, and parallel-friendly collections such as the `dask.array`.\n",
    "\n",
    "Dask can run tasks in parallel on a single machine via threads or processes. Or, the same code can trivially also be executed on a collection of local workstations connected via SSH, or an [HPC cluster with a traditional job scheduler](https://docs.dask.org/en/latest/setup/hpc.html), or a managed Kubernetes-based cloud cluster."
   ]
  },
  {
   "cell_type": "code",
   "execution_count": null,
   "metadata": {},
   "outputs": [
    {
     "data": {
      "text/html": [
       "<table>\n",
       "<tr>\n",
       "<td>\n",
       "<table>\n",
       "  <thead>\n",
       "    <tr><td> </td><th> Array </th><th> Chunk </th></tr>\n",
       "  </thead>\n",
       "  <tbody>\n",
       "    <tr><th> Bytes </th><td> 70.35 MB </td> <td> 149.05 kB </td></tr>\n",
       "    <tr><th> Shape </th><td> (1, 2, 236, 275, 271) </td> <td> (1, 1, 1, 275, 271) </td></tr>\n",
       "    <tr><th> Count </th><td> 473 Tasks </td><td> 472 Chunks </td></tr>\n",
       "    <tr><th> Type </th><td> >u2 </td><td> numpy.ndarray </td></tr>\n",
       "  </tbody>\n",
       "</table>\n",
       "</td>\n",
       "<td>\n",
       "<svg width=\"418\" height=\"230\" style=\"stroke:rgb(0,0,0);stroke-width:1\" >\n",
       "\n",
       "  <!-- Horizontal lines -->\n",
       "  <line x1=\"0\" y1=\"0\" x2=\"25\" y2=\"0\" style=\"stroke-width:2\" />\n",
       "  <line x1=\"0\" y1=\"25\" x2=\"25\" y2=\"25\" style=\"stroke-width:2\" />\n",
       "\n",
       "  <!-- Vertical lines -->\n",
       "  <line x1=\"0\" y1=\"0\" x2=\"0\" y2=\"25\" style=\"stroke-width:2\" />\n",
       "  <line x1=\"12\" y1=\"0\" x2=\"12\" y2=\"25\" />\n",
       "  <line x1=\"25\" y1=\"0\" x2=\"25\" y2=\"25\" style=\"stroke-width:2\" />\n",
       "\n",
       "  <!-- Colored Rectangle -->\n",
       "  <polygon points=\"0.0,0.0 25.412616514582485,0.0 25.412616514582485,25.412616514582485 0.0,25.412616514582485\" style=\"fill:#ECB172A0;stroke-width:0\"/>\n",
       "\n",
       "  <!-- Text -->\n",
       "  <text x=\"12.706308\" y=\"45.412617\" font-size=\"1.0rem\" font-weight=\"100\" text-anchor=\"middle\" >2</text>\n",
       "  <text x=\"45.412617\" y=\"12.706308\" font-size=\"1.0rem\" font-weight=\"100\" text-anchor=\"middle\" transform=\"rotate(0,45.412617,12.706308)\">1</text>\n",
       "\n",
       "\n",
       "  <!-- Horizontal lines -->\n",
       "  <line x1=\"95\" y1=\"0\" x2=\"155\" y2=\"60\" style=\"stroke-width:2\" />\n",
       "  <line x1=\"95\" y1=\"120\" x2=\"155\" y2=\"180\" style=\"stroke-width:2\" />\n",
       "\n",
       "  <!-- Vertical lines -->\n",
       "  <line x1=\"95\" y1=\"0\" x2=\"95\" y2=\"120\" style=\"stroke-width:2\" />\n",
       "  <line x1=\"96\" y1=\"1\" x2=\"96\" y2=\"121\" />\n",
       "  <line x1=\"98\" y1=\"3\" x2=\"98\" y2=\"123\" />\n",
       "  <line x1=\"100\" y1=\"5\" x2=\"100\" y2=\"125\" />\n",
       "  <line x1=\"102\" y1=\"7\" x2=\"102\" y2=\"127\" />\n",
       "  <line x1=\"104\" y1=\"9\" x2=\"104\" y2=\"129\" />\n",
       "  <line x1=\"106\" y1=\"11\" x2=\"106\" y2=\"131\" />\n",
       "  <line x1=\"108\" y1=\"13\" x2=\"108\" y2=\"133\" />\n",
       "  <line x1=\"110\" y1=\"15\" x2=\"110\" y2=\"135\" />\n",
       "  <line x1=\"111\" y1=\"16\" x2=\"111\" y2=\"136\" />\n",
       "  <line x1=\"113\" y1=\"18\" x2=\"113\" y2=\"138\" />\n",
       "  <line x1=\"115\" y1=\"20\" x2=\"115\" y2=\"140\" />\n",
       "  <line x1=\"117\" y1=\"22\" x2=\"117\" y2=\"142\" />\n",
       "  <line x1=\"119\" y1=\"24\" x2=\"119\" y2=\"144\" />\n",
       "  <line x1=\"121\" y1=\"26\" x2=\"121\" y2=\"146\" />\n",
       "  <line x1=\"123\" y1=\"28\" x2=\"123\" y2=\"148\" />\n",
       "  <line x1=\"125\" y1=\"30\" x2=\"125\" y2=\"150\" />\n",
       "  <line x1=\"127\" y1=\"32\" x2=\"127\" y2=\"152\" />\n",
       "  <line x1=\"128\" y1=\"33\" x2=\"128\" y2=\"153\" />\n",
       "  <line x1=\"130\" y1=\"35\" x2=\"130\" y2=\"155\" />\n",
       "  <line x1=\"132\" y1=\"37\" x2=\"132\" y2=\"157\" />\n",
       "  <line x1=\"134\" y1=\"39\" x2=\"134\" y2=\"159\" />\n",
       "  <line x1=\"136\" y1=\"41\" x2=\"136\" y2=\"161\" />\n",
       "  <line x1=\"138\" y1=\"43\" x2=\"138\" y2=\"163\" />\n",
       "  <line x1=\"140\" y1=\"45\" x2=\"140\" y2=\"165\" />\n",
       "  <line x1=\"142\" y1=\"47\" x2=\"142\" y2=\"167\" />\n",
       "  <line x1=\"144\" y1=\"49\" x2=\"144\" y2=\"169\" />\n",
       "  <line x1=\"146\" y1=\"51\" x2=\"146\" y2=\"171\" />\n",
       "  <line x1=\"147\" y1=\"52\" x2=\"147\" y2=\"172\" />\n",
       "  <line x1=\"149\" y1=\"54\" x2=\"149\" y2=\"174\" />\n",
       "  <line x1=\"151\" y1=\"56\" x2=\"151\" y2=\"176\" />\n",
       "  <line x1=\"153\" y1=\"58\" x2=\"153\" y2=\"178\" />\n",
       "  <line x1=\"155\" y1=\"60\" x2=\"155\" y2=\"180\" style=\"stroke-width:2\" />\n",
       "\n",
       "  <!-- Colored Rectangle -->\n",
       "  <polygon points=\"95.0,0.0 155.57754010695186,60.57754010695187 155.57754010695186,180.57754010695186 95.0,120.0\" style=\"fill:#8B4903A0;stroke-width:0\"/>\n",
       "\n",
       "  <!-- Horizontal lines -->\n",
       "  <line x1=\"95\" y1=\"0\" x2=\"213\" y2=\"0\" style=\"stroke-width:2\" />\n",
       "  <line x1=\"96\" y1=\"1\" x2=\"215\" y2=\"1\" />\n",
       "  <line x1=\"98\" y1=\"3\" x2=\"216\" y2=\"3\" />\n",
       "  <line x1=\"100\" y1=\"5\" x2=\"218\" y2=\"5\" />\n",
       "  <line x1=\"102\" y1=\"7\" x2=\"220\" y2=\"7\" />\n",
       "  <line x1=\"104\" y1=\"9\" x2=\"222\" y2=\"9\" />\n",
       "  <line x1=\"106\" y1=\"11\" x2=\"224\" y2=\"11\" />\n",
       "  <line x1=\"108\" y1=\"13\" x2=\"226\" y2=\"13\" />\n",
       "  <line x1=\"110\" y1=\"15\" x2=\"228\" y2=\"15\" />\n",
       "  <line x1=\"111\" y1=\"16\" x2=\"230\" y2=\"16\" />\n",
       "  <line x1=\"113\" y1=\"18\" x2=\"231\" y2=\"18\" />\n",
       "  <line x1=\"115\" y1=\"20\" x2=\"234\" y2=\"20\" />\n",
       "  <line x1=\"117\" y1=\"22\" x2=\"235\" y2=\"22\" />\n",
       "  <line x1=\"119\" y1=\"24\" x2=\"237\" y2=\"24\" />\n",
       "  <line x1=\"121\" y1=\"26\" x2=\"239\" y2=\"26\" />\n",
       "  <line x1=\"123\" y1=\"28\" x2=\"241\" y2=\"28\" />\n",
       "  <line x1=\"125\" y1=\"30\" x2=\"243\" y2=\"30\" />\n",
       "  <line x1=\"127\" y1=\"32\" x2=\"245\" y2=\"32\" />\n",
       "  <line x1=\"128\" y1=\"33\" x2=\"247\" y2=\"33\" />\n",
       "  <line x1=\"130\" y1=\"35\" x2=\"249\" y2=\"35\" />\n",
       "  <line x1=\"132\" y1=\"37\" x2=\"250\" y2=\"37\" />\n",
       "  <line x1=\"134\" y1=\"39\" x2=\"252\" y2=\"39\" />\n",
       "  <line x1=\"136\" y1=\"41\" x2=\"254\" y2=\"41\" />\n",
       "  <line x1=\"138\" y1=\"43\" x2=\"256\" y2=\"43\" />\n",
       "  <line x1=\"140\" y1=\"45\" x2=\"258\" y2=\"45\" />\n",
       "  <line x1=\"142\" y1=\"47\" x2=\"260\" y2=\"47\" />\n",
       "  <line x1=\"144\" y1=\"49\" x2=\"262\" y2=\"49\" />\n",
       "  <line x1=\"146\" y1=\"51\" x2=\"264\" y2=\"51\" />\n",
       "  <line x1=\"147\" y1=\"52\" x2=\"266\" y2=\"52\" />\n",
       "  <line x1=\"149\" y1=\"54\" x2=\"267\" y2=\"54\" />\n",
       "  <line x1=\"151\" y1=\"56\" x2=\"269\" y2=\"56\" />\n",
       "  <line x1=\"153\" y1=\"58\" x2=\"271\" y2=\"58\" />\n",
       "  <line x1=\"155\" y1=\"60\" x2=\"273\" y2=\"60\" style=\"stroke-width:2\" />\n",
       "\n",
       "  <!-- Vertical lines -->\n",
       "  <line x1=\"95\" y1=\"0\" x2=\"155\" y2=\"60\" style=\"stroke-width:2\" />\n",
       "  <line x1=\"213\" y1=\"0\" x2=\"273\" y2=\"60\" style=\"stroke-width:2\" />\n",
       "\n",
       "  <!-- Colored Rectangle -->\n",
       "  <polygon points=\"95.0,0.0 213.25454545454545,0.0 273.8320855614973,60.57754010695187 155.57754010695186,60.57754010695187\" style=\"fill:#8B4903A0;stroke-width:0\"/>\n",
       "\n",
       "  <!-- Horizontal lines -->\n",
       "  <line x1=\"155\" y1=\"60\" x2=\"273\" y2=\"60\" style=\"stroke-width:2\" />\n",
       "  <line x1=\"155\" y1=\"180\" x2=\"273\" y2=\"180\" style=\"stroke-width:2\" />\n",
       "\n",
       "  <!-- Vertical lines -->\n",
       "  <line x1=\"155\" y1=\"60\" x2=\"155\" y2=\"180\" style=\"stroke-width:2\" />\n",
       "  <line x1=\"273\" y1=\"60\" x2=\"273\" y2=\"180\" style=\"stroke-width:2\" />\n",
       "\n",
       "  <!-- Colored Rectangle -->\n",
       "  <polygon points=\"155.57754010695186,60.57754010695187 273.8320855614973,60.57754010695187 273.8320855614973,180.57754010695186 155.57754010695186,180.57754010695186\" style=\"fill:#ECB172A0;stroke-width:0\"/>\n",
       "\n",
       "  <!-- Text -->\n",
       "  <text x=\"214.704813\" y=\"200.577540\" font-size=\"1.0rem\" font-weight=\"100\" text-anchor=\"middle\" >271</text>\n",
       "  <text x=\"293.832086\" y=\"120.577540\" font-size=\"1.0rem\" font-weight=\"100\" text-anchor=\"middle\" transform=\"rotate(-90,293.832086,120.577540)\">275</text>\n",
       "  <text x=\"115.288770\" y=\"170.288770\" font-size=\"1.0rem\" font-weight=\"100\" text-anchor=\"middle\" transform=\"rotate(45,115.288770,170.288770)\">236</text>\n",
       "</svg>\n",
       "</td>\n",
       "</tr>\n",
       "</table>"
      ],
      "text/plain": [
       "dask.array<from-zarr, shape=(1, 2, 236, 275, 271), dtype=>u2, chunksize=(1, 1, 1, 275, 271), chunktype=numpy.ndarray>"
      ]
     },
     "execution_count": null,
     "metadata": {},
     "output_type": "execute_result"
    }
   ],
   "source": [
    "# Load the OME-Zarr image array\n",
    "import dask.array as da\n",
    "\n",
    "arr = da.from_zarr('https://s3.embassy.ebi.ac.uk/idr/zarr/v0.1/6001240.zarr', '0')\n",
    "arr"
   ]
  },
  {
   "cell_type": "code",
   "execution_count": null,
   "metadata": {},
   "outputs": [
    {
     "data": {
      "text/html": [
       "<table>\n",
       "<tr>\n",
       "<td>\n",
       "<table>\n",
       "  <thead>\n",
       "    <tr><td> </td><th> Array </th><th> Chunk </th></tr>\n",
       "  </thead>\n",
       "  <tbody>\n",
       "    <tr><th> Bytes </th><td> 35.18 MB </td> <td> 149.05 kB </td></tr>\n",
       "    <tr><th> Shape </th><td> (236, 275, 271) </td> <td> (1, 275, 271) </td></tr>\n",
       "    <tr><th> Count </th><td> 709 Tasks </td><td> 236 Chunks </td></tr>\n",
       "    <tr><th> Type </th><td> >u2 </td><td> numpy.ndarray </td></tr>\n",
       "  </tbody>\n",
       "</table>\n",
       "</td>\n",
       "<td>\n",
       "<svg width=\"238\" height=\"230\" style=\"stroke:rgb(0,0,0);stroke-width:1\" >\n",
       "\n",
       "  <!-- Horizontal lines -->\n",
       "  <line x1=\"10\" y1=\"0\" x2=\"70\" y2=\"60\" style=\"stroke-width:2\" />\n",
       "  <line x1=\"10\" y1=\"120\" x2=\"70\" y2=\"180\" style=\"stroke-width:2\" />\n",
       "\n",
       "  <!-- Vertical lines -->\n",
       "  <line x1=\"10\" y1=\"0\" x2=\"10\" y2=\"120\" style=\"stroke-width:2\" />\n",
       "  <line x1=\"13\" y1=\"3\" x2=\"13\" y2=\"123\" />\n",
       "  <line x1=\"16\" y1=\"6\" x2=\"16\" y2=\"126\" />\n",
       "  <line x1=\"19\" y1=\"9\" x2=\"19\" y2=\"129\" />\n",
       "  <line x1=\"22\" y1=\"12\" x2=\"22\" y2=\"132\" />\n",
       "  <line x1=\"25\" y1=\"15\" x2=\"25\" y2=\"135\" />\n",
       "  <line x1=\"28\" y1=\"18\" x2=\"28\" y2=\"138\" />\n",
       "  <line x1=\"32\" y1=\"22\" x2=\"32\" y2=\"142\" />\n",
       "  <line x1=\"35\" y1=\"25\" x2=\"35\" y2=\"145\" />\n",
       "  <line x1=\"38\" y1=\"28\" x2=\"38\" y2=\"148\" />\n",
       "  <line x1=\"41\" y1=\"31\" x2=\"41\" y2=\"151\" />\n",
       "  <line x1=\"44\" y1=\"34\" x2=\"44\" y2=\"154\" />\n",
       "  <line x1=\"48\" y1=\"38\" x2=\"48\" y2=\"158\" />\n",
       "  <line x1=\"51\" y1=\"41\" x2=\"51\" y2=\"161\" />\n",
       "  <line x1=\"54\" y1=\"44\" x2=\"54\" y2=\"164\" />\n",
       "  <line x1=\"57\" y1=\"47\" x2=\"57\" y2=\"167\" />\n",
       "  <line x1=\"60\" y1=\"50\" x2=\"60\" y2=\"170\" />\n",
       "  <line x1=\"64\" y1=\"54\" x2=\"64\" y2=\"174\" />\n",
       "  <line x1=\"67\" y1=\"57\" x2=\"67\" y2=\"177\" />\n",
       "  <line x1=\"70\" y1=\"60\" x2=\"70\" y2=\"180\" style=\"stroke-width:2\" />\n",
       "\n",
       "  <!-- Colored Rectangle -->\n",
       "  <polygon points=\"10.0,0.0 70.57754010695187,60.57754010695187 70.57754010695187,180.57754010695186 10.0,120.0\" style=\"fill:#8B4903A0;stroke-width:0\"/>\n",
       "\n",
       "  <!-- Horizontal lines -->\n",
       "  <line x1=\"10\" y1=\"0\" x2=\"128\" y2=\"0\" style=\"stroke-width:2\" />\n",
       "  <line x1=\"13\" y1=\"3\" x2=\"131\" y2=\"3\" />\n",
       "  <line x1=\"16\" y1=\"6\" x2=\"134\" y2=\"6\" />\n",
       "  <line x1=\"19\" y1=\"9\" x2=\"137\" y2=\"9\" />\n",
       "  <line x1=\"22\" y1=\"12\" x2=\"140\" y2=\"12\" />\n",
       "  <line x1=\"25\" y1=\"15\" x2=\"144\" y2=\"15\" />\n",
       "  <line x1=\"28\" y1=\"18\" x2=\"147\" y2=\"18\" />\n",
       "  <line x1=\"32\" y1=\"22\" x2=\"150\" y2=\"22\" />\n",
       "  <line x1=\"35\" y1=\"25\" x2=\"153\" y2=\"25\" />\n",
       "  <line x1=\"38\" y1=\"28\" x2=\"156\" y2=\"28\" />\n",
       "  <line x1=\"41\" y1=\"31\" x2=\"160\" y2=\"31\" />\n",
       "  <line x1=\"44\" y1=\"34\" x2=\"163\" y2=\"34\" />\n",
       "  <line x1=\"48\" y1=\"38\" x2=\"166\" y2=\"38\" />\n",
       "  <line x1=\"51\" y1=\"41\" x2=\"169\" y2=\"41\" />\n",
       "  <line x1=\"54\" y1=\"44\" x2=\"172\" y2=\"44\" />\n",
       "  <line x1=\"57\" y1=\"47\" x2=\"175\" y2=\"47\" />\n",
       "  <line x1=\"60\" y1=\"50\" x2=\"179\" y2=\"50\" />\n",
       "  <line x1=\"64\" y1=\"54\" x2=\"182\" y2=\"54\" />\n",
       "  <line x1=\"67\" y1=\"57\" x2=\"185\" y2=\"57\" />\n",
       "  <line x1=\"70\" y1=\"60\" x2=\"188\" y2=\"60\" style=\"stroke-width:2\" />\n",
       "\n",
       "  <!-- Vertical lines -->\n",
       "  <line x1=\"10\" y1=\"0\" x2=\"70\" y2=\"60\" style=\"stroke-width:2\" />\n",
       "  <line x1=\"128\" y1=\"0\" x2=\"188\" y2=\"60\" style=\"stroke-width:2\" />\n",
       "\n",
       "  <!-- Colored Rectangle -->\n",
       "  <polygon points=\"10.0,0.0 128.25454545454545,0.0 188.8320855614973,60.57754010695187 70.57754010695187,60.57754010695187\" style=\"fill:#8B4903A0;stroke-width:0\"/>\n",
       "\n",
       "  <!-- Horizontal lines -->\n",
       "  <line x1=\"70\" y1=\"60\" x2=\"188\" y2=\"60\" style=\"stroke-width:2\" />\n",
       "  <line x1=\"70\" y1=\"180\" x2=\"188\" y2=\"180\" style=\"stroke-width:2\" />\n",
       "\n",
       "  <!-- Vertical lines -->\n",
       "  <line x1=\"70\" y1=\"60\" x2=\"70\" y2=\"180\" style=\"stroke-width:2\" />\n",
       "  <line x1=\"188\" y1=\"60\" x2=\"188\" y2=\"180\" style=\"stroke-width:2\" />\n",
       "\n",
       "  <!-- Colored Rectangle -->\n",
       "  <polygon points=\"70.57754010695187,60.57754010695187 188.8320855614973,60.57754010695187 188.8320855614973,180.57754010695186 70.57754010695187,180.57754010695186\" style=\"fill:#ECB172A0;stroke-width:0\"/>\n",
       "\n",
       "  <!-- Text -->\n",
       "  <text x=\"129.704813\" y=\"200.577540\" font-size=\"1.0rem\" font-weight=\"100\" text-anchor=\"middle\" >271</text>\n",
       "  <text x=\"208.832086\" y=\"120.577540\" font-size=\"1.0rem\" font-weight=\"100\" text-anchor=\"middle\" transform=\"rotate(-90,208.832086,120.577540)\">275</text>\n",
       "  <text x=\"30.288770\" y=\"170.288770\" font-size=\"1.0rem\" font-weight=\"100\" text-anchor=\"middle\" transform=\"rotate(45,30.288770,170.288770)\">236</text>\n",
       "</svg>\n",
       "</td>\n",
       "</tr>\n",
       "</table>"
      ],
      "text/plain": [
       "dask.array<getitem, shape=(236, 275, 271), dtype=>u2, chunksize=(1, 275, 271), chunktype=numpy.ndarray>"
      ]
     },
     "execution_count": null,
     "metadata": {},
     "output_type": "execute_result"
    }
   ],
   "source": [
    "vol = arr[0,0,:,:,:]\n",
    "vol"
   ]
  },
  {
   "cell_type": "code",
   "execution_count": null,
   "metadata": {},
   "outputs": [
    {
     "data": {
      "application/vnd.jupyter.widget-view+json": {
       "model_id": "042c3ac706ae4d12a9b6e0f49f74fada",
       "version_major": 2,
       "version_minor": 0
      },
      "text/plain": [
       "Viewer(geometries=[], gradient_opacity=0.9, point_sets=[], rendered_image=<itk.itkImagePython.itkImageUS3; pro…"
      ]
     },
     "metadata": {},
     "output_type": "display_data"
    }
   ],
   "source": [
    "from itkwidgets import view\n",
    "view(vol, gradient_opacity=0.9)"
   ]
  },
  {
   "cell_type": "code",
   "execution_count": null,
   "metadata": {},
   "outputs": [
    {
     "data": {
      "text/html": [
       "<table>\n",
       "<tr>\n",
       "<td>\n",
       "<table>\n",
       "  <thead>\n",
       "    <tr><td> </td><th> Array </th><th> Chunk </th></tr>\n",
       "  </thead>\n",
       "  <tbody>\n",
       "    <tr><th> Bytes </th><td> 2.15 MB </td> <td> 36.45 kB </td></tr>\n",
       "    <tr><th> Shape </th><td> (59, 68, 67) </td> <td> (1, 68, 67) </td></tr>\n",
       "    <tr><th> Count </th><td> 2125 Tasks </td><td> 236 Chunks </td></tr>\n",
       "    <tr><th> Type </th><td> float64 </td><td> numpy.ndarray </td></tr>\n",
       "  </tbody>\n",
       "</table>\n",
       "</td>\n",
       "<td>\n",
       "<svg width=\"239\" height=\"231\" style=\"stroke:rgb(0,0,0);stroke-width:1\" >\n",
       "\n",
       "  <!-- Horizontal lines -->\n",
       "  <line x1=\"10\" y1=\"0\" x2=\"71\" y2=\"61\" style=\"stroke-width:2\" />\n",
       "  <line x1=\"10\" y1=\"120\" x2=\"71\" y2=\"181\" />\n",
       "  <line x1=\"10\" y1=\"120\" x2=\"71\" y2=\"181\" style=\"stroke-width:2\" />\n",
       "\n",
       "  <!-- Vertical lines -->\n",
       "  <line x1=\"10\" y1=\"0\" x2=\"10\" y2=\"120\" style=\"stroke-width:2\" />\n",
       "  <line x1=\"13\" y1=\"3\" x2=\"13\" y2=\"123\" />\n",
       "  <line x1=\"16\" y1=\"6\" x2=\"16\" y2=\"126\" />\n",
       "  <line x1=\"19\" y1=\"9\" x2=\"19\" y2=\"129\" />\n",
       "  <line x1=\"22\" y1=\"12\" x2=\"22\" y2=\"132\" />\n",
       "  <line x1=\"25\" y1=\"15\" x2=\"25\" y2=\"135\" />\n",
       "  <line x1=\"28\" y1=\"18\" x2=\"28\" y2=\"138\" />\n",
       "  <line x1=\"31\" y1=\"21\" x2=\"31\" y2=\"141\" />\n",
       "  <line x1=\"34\" y1=\"24\" x2=\"34\" y2=\"144\" />\n",
       "  <line x1=\"38\" y1=\"28\" x2=\"38\" y2=\"148\" />\n",
       "  <line x1=\"42\" y1=\"32\" x2=\"42\" y2=\"152\" />\n",
       "  <line x1=\"45\" y1=\"35\" x2=\"45\" y2=\"155\" />\n",
       "  <line x1=\"48\" y1=\"38\" x2=\"48\" y2=\"158\" />\n",
       "  <line x1=\"51\" y1=\"41\" x2=\"51\" y2=\"161\" />\n",
       "  <line x1=\"54\" y1=\"44\" x2=\"54\" y2=\"164\" />\n",
       "  <line x1=\"57\" y1=\"47\" x2=\"57\" y2=\"167\" />\n",
       "  <line x1=\"60\" y1=\"50\" x2=\"60\" y2=\"170\" />\n",
       "  <line x1=\"63\" y1=\"53\" x2=\"63\" y2=\"173\" />\n",
       "  <line x1=\"67\" y1=\"57\" x2=\"67\" y2=\"177\" />\n",
       "  <line x1=\"71\" y1=\"61\" x2=\"71\" y2=\"181\" style=\"stroke-width:2\" />\n",
       "\n",
       "  <!-- Colored Rectangle -->\n",
       "  <polygon points=\"10.0,0.0 71.24567474048442,61.245674740484425 71.24567474048442,181.24567474048442 10.0,120.0\" style=\"fill:#8B4903A0;stroke-width:0\"/>\n",
       "\n",
       "  <!-- Horizontal lines -->\n",
       "  <line x1=\"10\" y1=\"0\" x2=\"128\" y2=\"0\" style=\"stroke-width:2\" />\n",
       "  <line x1=\"13\" y1=\"3\" x2=\"131\" y2=\"3\" />\n",
       "  <line x1=\"16\" y1=\"6\" x2=\"134\" y2=\"6\" />\n",
       "  <line x1=\"19\" y1=\"9\" x2=\"137\" y2=\"9\" />\n",
       "  <line x1=\"22\" y1=\"12\" x2=\"140\" y2=\"12\" />\n",
       "  <line x1=\"25\" y1=\"15\" x2=\"143\" y2=\"15\" />\n",
       "  <line x1=\"28\" y1=\"18\" x2=\"146\" y2=\"18\" />\n",
       "  <line x1=\"31\" y1=\"21\" x2=\"150\" y2=\"21\" />\n",
       "  <line x1=\"34\" y1=\"24\" x2=\"153\" y2=\"24\" />\n",
       "  <line x1=\"38\" y1=\"28\" x2=\"156\" y2=\"28\" />\n",
       "  <line x1=\"42\" y1=\"32\" x2=\"160\" y2=\"32\" />\n",
       "  <line x1=\"45\" y1=\"35\" x2=\"163\" y2=\"35\" />\n",
       "  <line x1=\"48\" y1=\"38\" x2=\"166\" y2=\"38\" />\n",
       "  <line x1=\"51\" y1=\"41\" x2=\"169\" y2=\"41\" />\n",
       "  <line x1=\"54\" y1=\"44\" x2=\"172\" y2=\"44\" />\n",
       "  <line x1=\"57\" y1=\"47\" x2=\"175\" y2=\"47\" />\n",
       "  <line x1=\"60\" y1=\"50\" x2=\"179\" y2=\"50\" />\n",
       "  <line x1=\"63\" y1=\"53\" x2=\"182\" y2=\"53\" />\n",
       "  <line x1=\"67\" y1=\"57\" x2=\"185\" y2=\"57\" />\n",
       "  <line x1=\"71\" y1=\"61\" x2=\"189\" y2=\"61\" style=\"stroke-width:2\" />\n",
       "\n",
       "  <!-- Vertical lines -->\n",
       "  <line x1=\"10\" y1=\"0\" x2=\"71\" y2=\"61\" style=\"stroke-width:2\" />\n",
       "  <line x1=\"128\" y1=\"0\" x2=\"189\" y2=\"61\" />\n",
       "  <line x1=\"128\" y1=\"0\" x2=\"189\" y2=\"61\" style=\"stroke-width:2\" />\n",
       "\n",
       "  <!-- Colored Rectangle -->\n",
       "  <polygon points=\"10.0,0.0 128.23529411764707,0.0 189.4809688581315,61.245674740484425 71.24567474048442,61.245674740484425\" style=\"fill:#8B4903A0;stroke-width:0\"/>\n",
       "\n",
       "  <!-- Horizontal lines -->\n",
       "  <line x1=\"71\" y1=\"61\" x2=\"189\" y2=\"61\" style=\"stroke-width:2\" />\n",
       "  <line x1=\"71\" y1=\"181\" x2=\"189\" y2=\"181\" />\n",
       "  <line x1=\"71\" y1=\"181\" x2=\"189\" y2=\"181\" style=\"stroke-width:2\" />\n",
       "\n",
       "  <!-- Vertical lines -->\n",
       "  <line x1=\"71\" y1=\"61\" x2=\"71\" y2=\"181\" style=\"stroke-width:2\" />\n",
       "  <line x1=\"189\" y1=\"61\" x2=\"189\" y2=\"181\" />\n",
       "  <line x1=\"189\" y1=\"61\" x2=\"189\" y2=\"181\" style=\"stroke-width:2\" />\n",
       "\n",
       "  <!-- Colored Rectangle -->\n",
       "  <polygon points=\"71.24567474048442,61.245674740484425 189.48096885813146,61.245674740484425 189.48096885813146,181.24567474048442 71.24567474048442,181.24567474048442\" style=\"fill:#ECB172A0;stroke-width:0\"/>\n",
       "\n",
       "  <!-- Text -->\n",
       "  <text x=\"130.363322\" y=\"201.245675\" font-size=\"1.0rem\" font-weight=\"100\" text-anchor=\"middle\" >67</text>\n",
       "  <text x=\"209.480969\" y=\"121.245675\" font-size=\"1.0rem\" font-weight=\"100\" text-anchor=\"middle\" transform=\"rotate(0,209.480969,121.245675)\">68</text>\n",
       "  <text x=\"30.622837\" y=\"170.622837\" font-size=\"1.0rem\" font-weight=\"100\" text-anchor=\"middle\" transform=\"rotate(45,30.622837,170.622837)\">59</text>\n",
       "</svg>\n",
       "</td>\n",
       "</tr>\n",
       "</table>"
      ],
      "text/plain": [
       "dask.array<coarsen, shape=(59, 68, 67), dtype=float64, chunksize=(1, 68, 67), chunktype=numpy.ndarray>"
      ]
     },
     "execution_count": null,
     "metadata": {},
     "output_type": "execute_result"
    }
   ],
   "source": [
    "# We can downsample the Dask array with `coarsen`\n",
    "import numpy as np\n",
    "\n",
    "factor = 4\n",
    "down = da.coarsen(np.mean, vol, { 0: factor, 1: factor, 2: factor }, trim_excess=True)\n",
    "down"
   ]
  },
  {
   "cell_type": "code",
   "execution_count": null,
   "metadata": {},
   "outputs": [
    {
     "name": "stdout",
     "output_type": "stream",
     "text": [
      "7.793061017990112 seconds\n"
     ]
    }
   ],
   "source": [
    "# Computation is lazy by default -- we can trigger it with .compute()\n",
    "import time\n",
    "\n",
    "start = time.time()\n",
    "\n",
    "down_arr = down.compute()\n",
    "\n",
    "elapsed = time.time() - start\n",
    "print(elapsed, 'seconds')"
   ]
  },
  {
   "cell_type": "code",
   "execution_count": null,
   "metadata": {},
   "outputs": [
    {
     "name": "stdout",
     "output_type": "stream",
     "text": [
      "<class 'numpy.ndarray'>\n",
      "(59, 68, 67)\n"
     ]
    },
    {
     "data": {
      "application/vnd.jupyter.widget-view+json": {
       "model_id": "77acbfbe26df419cb94969e6fd6b7075",
       "version_major": 2,
       "version_minor": 0
      },
      "text/plain": [
       "Viewer(geometries=[], gradient_opacity=0.22, point_sets=[], rendered_image=<itk.itkImagePython.itkImageD3; pro…"
      ]
     },
     "metadata": {},
     "output_type": "display_data"
    }
   ],
   "source": [
    "print(type(down_arr))\n",
    "print(down_arr.shape)\n",
    "view(down_arr)"
   ]
  },
  {
   "cell_type": "markdown",
   "metadata": {},
   "source": [
    "## Cloud cluster"
   ]
  },
  {
   "cell_type": "markdown",
   "metadata": {},
   "source": [
    "[Coiled.io](https://coiled.io/) is a service that provides a dynamic cloud cluster with minimal configuration."
   ]
  },
  {
   "cell_type": "code",
   "execution_count": null,
   "metadata": {},
   "outputs": [],
   "source": [
    "#ciskip\n",
    "# Start a new cloud cluster\n",
    "\n",
    "# You must first log into Coiled.\n",
    "import coiled\n",
    "from dask.distributed import Client, LocalCluster\n",
    "\n",
    "# Set to re-use a running cluster when re-running the notebook. Listed at https://cloud.coiled.io/<username>/clusters.\n",
    "name = None\n",
    "cluster = coiled.Cluster(n_workers=4,\n",
    "                         worker_cpu=2,\n",
    "                         worker_memory='6G',\n",
    "                         name=name,\n",
    "                         software='thewtex/i2k-2020-mi2')\n",
    "    \n",
    "client = Client(cluster)\n",
    "# Click on the *Dashboard* link\n",
    "client"
   ]
  },
  {
   "cell_type": "markdown",
   "metadata": {},
   "source": [
    "*Note:*\n",
    "\n",
    "It is **critical** that the:\n",
    "\n",
    "- Jupyter client\n",
    "- Jupyter kernel\n",
    "- Dask scheduler\n",
    "- Dask workers\n",
    "\n",
    "all have a consistent software environment.\n",
    "\n",
    "See [the coiled documentation on how to create a consistent software environment](https://docs.coiled.io/user_guide/software_environment.html)."
   ]
  },
  {
   "cell_type": "code",
   "execution_count": null,
   "metadata": {},
   "outputs": [],
   "source": [
    "%pycat ./create_coiled_software_environment.py"
   ]
  },
  {
   "cell_type": "code",
   "execution_count": null,
   "metadata": {},
   "outputs": [
    {
     "name": "stdout",
     "output_type": "stream",
     "text": [
      "9.133583784103394 seconds\n"
     ]
    }
   ],
   "source": [
    "# Run on the cloud cluster -- keep an eye on the dashboard!\n",
    "start = time.time()\n",
    "\n",
    "down_arr = down.compute()\n",
    "\n",
    "elapsed = time.time() - start\n",
    "print(elapsed, 'seconds')"
   ]
  },
  {
   "cell_type": "markdown",
   "metadata": {},
   "source": [
    "## Exercises"
   ]
  },
  {
   "cell_type": "markdown",
   "metadata": {},
   "source": [
    "*Change the data chunk size.*\n",
    "\n",
    "*How does chunk size impact downsampling performance?*"
   ]
  },
  {
   "cell_type": "code",
   "execution_count": null,
   "metadata": {},
   "outputs": [],
   "source": []
  },
  {
   "cell_type": "code",
   "execution_count": null,
   "metadata": {},
   "outputs": [
    {
     "data": {
      "text/html": [
       "<table style=\"border: 2px solid white;\">\n",
       "<tr>\n",
       "<td style=\"vertical-align: top; border: 0px solid white\">\n",
       "<h3 style=\"text-align: left;\">Client</h3>\n",
       "<ul style=\"text-align: left; list-style: none; margin: 0; padding: 0;\">\n",
       "  <li><b>Scheduler: </b>inproc://10.10.10.247/3140440/1</li>\n",
       "  <li><b>Dashboard: </b><a href='http://10.10.10.247:8787/status' target='_blank'>http://10.10.10.247:8787/status</a></li>\n",
       "</ul>\n",
       "</td>\n",
       "<td style=\"vertical-align: top; border: 0px solid white\">\n",
       "<h3 style=\"text-align: left;\">Cluster</h3>\n",
       "<ul style=\"text-align: left; list-style:none; margin: 0; padding: 0;\">\n",
       "  <li><b>Workers: </b>2</li>\n",
       "  <li><b>Cores: </b>16</li>\n",
       "  <li><b>Memory: </b>12.00 GB</li>\n",
       "</ul>\n",
       "</td>\n",
       "</tr>\n",
       "</table>"
      ],
      "text/plain": [
       "<Client: 'inproc://10.10.10.247/3140440/1' processes=2 threads=16, memory=12.00 GB>"
      ]
     },
     "execution_count": null,
     "metadata": {},
     "output_type": "execute_result"
    }
   ],
   "source": [
    "# Run on a local \"cluster\" -- how does performance compare? Why?\n",
    "from dask.distributed import Client, LocalCluster\n",
    "\n",
    "local_cluster = LocalCluster(n_workers=2, processes=False, memory_limit='6G')\n",
    "client = Client(local_cluster)\n",
    "client"
   ]
  },
  {
   "cell_type": "code",
   "execution_count": null,
   "metadata": {},
   "outputs": [
    {
     "name": "stdout",
     "output_type": "stream",
     "text": [
      "3.965486526489258 seconds\n"
     ]
    }
   ],
   "source": [
    "start = time.time()\n",
    "\n",
    "down_arr = down.compute()\n",
    "\n",
    "elapsed = time.time() - start\n",
    "print(elapsed, 'seconds')"
   ]
  },
  {
   "cell_type": "code",
   "execution_count": null,
   "metadata": {},
   "outputs": [],
   "source": []
  }
 ],
 "metadata": {
  "kernelspec": {
   "display_name": "Python 3",
   "language": "python",
   "name": "python3"
  }
 },
 "nbformat": 4,
 "nbformat_minor": 4
}
