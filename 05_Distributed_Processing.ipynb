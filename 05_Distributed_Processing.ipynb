{
 "cells": [
  {
   "cell_type": "markdown",
   "metadata": {},
   "source": [
    "# Distributed Image Processing in the Cloud "
   ]
  },
  {
   "cell_type": "markdown",
   "metadata": {},
   "source": [
    "## Learning objectives\n",
    "\n",
    "- Become familiar with **lazy, distributed Python image processing** with Dask\n",
    "- Learn how to start and interact with a **Coiled.io cloud cluster**\n",
    "- Understand why **consistent software environments** are required and how to create them"
   ]
  },
  {
   "cell_type": "markdown",
   "metadata": {},
   "source": [
    "## Distributed Python Image Processing with Dask"
   ]
  },
  {
   "cell_type": "markdown",
   "metadata": {},
   "source": [
    "![Dask overview](https://docs.dask.org/en/latest/_images/dask-overview.svg)\n",
    "\n",
    "[Dask](https://dask.org/) is *a Python-based, flexible library for parallel computing*. Dask provides dynamic task scheduling optimized for interactive computing, and parallel-friendly collections such as the `dask.array`.\n",
    "\n",
    "Dask can run tasks in parallel on a single machine via threads or processes. Or, the same code can trivially also be executed on a collection of local workstations connected via SSH, or an [HPC cluster with a traditional job scheduler](https://docs.dask.org/en/latest/setup/hpc.html), or a managed Kubernetes-based cloud cluster."
   ]
  },
  {
   "cell_type": "code",
   "execution_count": 2,
   "metadata": {},
   "outputs": [
    {
     "ename": "ArrayNotFoundError",
     "evalue": "array not found at path %r' ''",
     "output_type": "error",
     "traceback": [
      "\u001b[1;31m---------------------------------------------------------------------------\u001b[0m",
      "\u001b[1;31mFileNotFoundError\u001b[0m                         Traceback (most recent call last)",
      "File \u001b[1;32m~\\.conda\\envs\\i2k-web-2022\\lib\\site-packages\\fsspec\\mapping.py:135\u001b[0m, in \u001b[0;36mFSMap.__getitem__\u001b[1;34m(self, key, default)\u001b[0m\n\u001b[0;32m    134\u001b[0m \u001b[38;5;28;01mtry\u001b[39;00m:\n\u001b[1;32m--> 135\u001b[0m     result \u001b[38;5;241m=\u001b[39m \u001b[38;5;28;43mself\u001b[39;49m\u001b[38;5;241;43m.\u001b[39;49m\u001b[43mfs\u001b[49m\u001b[38;5;241;43m.\u001b[39;49m\u001b[43mcat\u001b[49m\u001b[43m(\u001b[49m\u001b[43mk\u001b[49m\u001b[43m)\u001b[49m\n\u001b[0;32m    136\u001b[0m \u001b[38;5;28;01mexcept\u001b[39;00m \u001b[38;5;28mself\u001b[39m\u001b[38;5;241m.\u001b[39mmissing_exceptions:\n",
      "File \u001b[1;32m~\\.conda\\envs\\i2k-web-2022\\lib\\site-packages\\fsspec\\asyn.py:85\u001b[0m, in \u001b[0;36msync_wrapper.<locals>.wrapper\u001b[1;34m(*args, **kwargs)\u001b[0m\n\u001b[0;32m     84\u001b[0m \u001b[38;5;28mself\u001b[39m \u001b[38;5;241m=\u001b[39m obj \u001b[38;5;129;01mor\u001b[39;00m args[\u001b[38;5;241m0\u001b[39m]\n\u001b[1;32m---> 85\u001b[0m \u001b[38;5;28;01mreturn\u001b[39;00m sync(\u001b[38;5;28mself\u001b[39m\u001b[38;5;241m.\u001b[39mloop, func, \u001b[38;5;241m*\u001b[39margs, \u001b[38;5;241m*\u001b[39m\u001b[38;5;241m*\u001b[39mkwargs)\n",
      "File \u001b[1;32m~\\.conda\\envs\\i2k-web-2022\\lib\\site-packages\\fsspec\\asyn.py:65\u001b[0m, in \u001b[0;36msync\u001b[1;34m(loop, func, timeout, *args, **kwargs)\u001b[0m\n\u001b[0;32m     64\u001b[0m \u001b[38;5;28;01melif\u001b[39;00m \u001b[38;5;28misinstance\u001b[39m(return_result, \u001b[38;5;167;01mBaseException\u001b[39;00m):\n\u001b[1;32m---> 65\u001b[0m     \u001b[38;5;28;01mraise\u001b[39;00m return_result\n\u001b[0;32m     66\u001b[0m \u001b[38;5;28;01melse\u001b[39;00m:\n",
      "File \u001b[1;32m~\\.conda\\envs\\i2k-web-2022\\lib\\site-packages\\fsspec\\asyn.py:25\u001b[0m, in \u001b[0;36m_runner\u001b[1;34m(event, coro, result, timeout)\u001b[0m\n\u001b[0;32m     24\u001b[0m \u001b[38;5;28;01mtry\u001b[39;00m:\n\u001b[1;32m---> 25\u001b[0m     result[\u001b[38;5;241m0\u001b[39m] \u001b[38;5;241m=\u001b[39m \u001b[38;5;28;01mawait\u001b[39;00m coro\n\u001b[0;32m     26\u001b[0m \u001b[38;5;28;01mexcept\u001b[39;00m \u001b[38;5;167;01mException\u001b[39;00m \u001b[38;5;28;01mas\u001b[39;00m ex:\n",
      "File \u001b[1;32m~\\.conda\\envs\\i2k-web-2022\\lib\\site-packages\\fsspec\\asyn.py:397\u001b[0m, in \u001b[0;36mAsyncFileSystem._cat\u001b[1;34m(self, path, recursive, on_error, batch_size, **kwargs)\u001b[0m\n\u001b[0;32m    396\u001b[0m     \u001b[38;5;28;01mif\u001b[39;00m ex:\n\u001b[1;32m--> 397\u001b[0m         \u001b[38;5;28;01mraise\u001b[39;00m ex\n\u001b[0;32m    398\u001b[0m \u001b[38;5;28;01mif\u001b[39;00m (\n\u001b[0;32m    399\u001b[0m     \u001b[38;5;28mlen\u001b[39m(paths) \u001b[38;5;241m>\u001b[39m \u001b[38;5;241m1\u001b[39m\n\u001b[0;32m    400\u001b[0m     \u001b[38;5;129;01mor\u001b[39;00m \u001b[38;5;28misinstance\u001b[39m(path, \u001b[38;5;28mlist\u001b[39m)\n\u001b[0;32m    401\u001b[0m     \u001b[38;5;129;01mor\u001b[39;00m paths[\u001b[38;5;241m0\u001b[39m] \u001b[38;5;241m!=\u001b[39m \u001b[38;5;28mself\u001b[39m\u001b[38;5;241m.\u001b[39m_strip_protocol(path)\n\u001b[0;32m    402\u001b[0m ):\n",
      "File \u001b[1;32m~\\.conda\\envs\\i2k-web-2022\\lib\\asyncio\\tasks.py:440\u001b[0m, in \u001b[0;36mwait_for\u001b[1;34m(fut, timeout, loop)\u001b[0m\n\u001b[0;32m    439\u001b[0m \u001b[38;5;28;01mif\u001b[39;00m timeout \u001b[38;5;129;01mis\u001b[39;00m \u001b[38;5;28;01mNone\u001b[39;00m:\n\u001b[1;32m--> 440\u001b[0m     \u001b[38;5;28;01mreturn\u001b[39;00m \u001b[38;5;28;01mawait\u001b[39;00m fut\n\u001b[0;32m    442\u001b[0m \u001b[38;5;28;01mif\u001b[39;00m timeout \u001b[38;5;241m<\u001b[39m\u001b[38;5;241m=\u001b[39m \u001b[38;5;241m0\u001b[39m:\n",
      "File \u001b[1;32m~\\.conda\\envs\\i2k-web-2022\\lib\\site-packages\\fsspec\\implementations\\http.py:226\u001b[0m, in \u001b[0;36mHTTPFileSystem._cat_file\u001b[1;34m(self, url, start, end, **kwargs)\u001b[0m\n\u001b[0;32m    225\u001b[0m     out \u001b[38;5;241m=\u001b[39m \u001b[38;5;28;01mawait\u001b[39;00m r\u001b[38;5;241m.\u001b[39mread()\n\u001b[1;32m--> 226\u001b[0m     \u001b[38;5;28;43mself\u001b[39;49m\u001b[38;5;241;43m.\u001b[39;49m\u001b[43m_raise_not_found_for_status\u001b[49m\u001b[43m(\u001b[49m\u001b[43mr\u001b[49m\u001b[43m,\u001b[49m\u001b[43m \u001b[49m\u001b[43murl\u001b[49m\u001b[43m)\u001b[49m\n\u001b[0;32m    227\u001b[0m \u001b[38;5;28;01mreturn\u001b[39;00m out\n",
      "File \u001b[1;32m~\\.conda\\envs\\i2k-web-2022\\lib\\site-packages\\fsspec\\implementations\\http.py:207\u001b[0m, in \u001b[0;36mHTTPFileSystem._raise_not_found_for_status\u001b[1;34m(self, response, url)\u001b[0m\n\u001b[0;32m    206\u001b[0m \u001b[38;5;28;01mif\u001b[39;00m response\u001b[38;5;241m.\u001b[39mstatus \u001b[38;5;241m==\u001b[39m \u001b[38;5;241m404\u001b[39m:\n\u001b[1;32m--> 207\u001b[0m     \u001b[38;5;28;01mraise\u001b[39;00m \u001b[38;5;167;01mFileNotFoundError\u001b[39;00m(url)\n\u001b[0;32m    208\u001b[0m response\u001b[38;5;241m.\u001b[39mraise_for_status()\n",
      "\u001b[1;31mFileNotFoundError\u001b[0m: https://thewtex.github.io/modern-insights-from-microscopy-images/HL50_cell.zarr/scale0/HL50_cell/.zarray",
      "\nDuring handling of the above exception, another exception occurred:\n",
      "\u001b[1;31mKeyError\u001b[0m                                  Traceback (most recent call last)",
      "File \u001b[1;32m~\\.conda\\envs\\i2k-web-2022\\lib\\site-packages\\zarr\\core.py:206\u001b[0m, in \u001b[0;36mArray._load_metadata_nosync\u001b[1;34m(self)\u001b[0m\n\u001b[0;32m    205\u001b[0m     mkey \u001b[38;5;241m=\u001b[39m \u001b[38;5;28mself\u001b[39m\u001b[38;5;241m.\u001b[39m_key_prefix \u001b[38;5;241m+\u001b[39m array_meta_key\n\u001b[1;32m--> 206\u001b[0m     meta_bytes \u001b[38;5;241m=\u001b[39m \u001b[38;5;28;43mself\u001b[39;49m\u001b[38;5;241;43m.\u001b[39;49m\u001b[43m_store\u001b[49m\u001b[43m[\u001b[49m\u001b[43mmkey\u001b[49m\u001b[43m]\u001b[49m\n\u001b[0;32m    207\u001b[0m \u001b[38;5;28;01mexcept\u001b[39;00m \u001b[38;5;167;01mKeyError\u001b[39;00m:\n",
      "File \u001b[1;32m~\\.conda\\envs\\i2k-web-2022\\lib\\site-packages\\zarr\\storage.py:545\u001b[0m, in \u001b[0;36mKVStore.__getitem__\u001b[1;34m(self, key)\u001b[0m\n\u001b[0;32m    544\u001b[0m \u001b[38;5;28;01mdef\u001b[39;00m \u001b[38;5;21m__getitem__\u001b[39m(\u001b[38;5;28mself\u001b[39m, key):\n\u001b[1;32m--> 545\u001b[0m     \u001b[38;5;28;01mreturn\u001b[39;00m \u001b[38;5;28;43mself\u001b[39;49m\u001b[38;5;241;43m.\u001b[39;49m\u001b[43m_mutable_mapping\u001b[49m\u001b[43m[\u001b[49m\u001b[43mkey\u001b[49m\u001b[43m]\u001b[49m\n",
      "File \u001b[1;32m~\\.conda\\envs\\i2k-web-2022\\lib\\site-packages\\fsspec\\mapping.py:139\u001b[0m, in \u001b[0;36mFSMap.__getitem__\u001b[1;34m(self, key, default)\u001b[0m\n\u001b[0;32m    138\u001b[0m         \u001b[38;5;28;01mreturn\u001b[39;00m default\n\u001b[1;32m--> 139\u001b[0m     \u001b[38;5;28;01mraise\u001b[39;00m \u001b[38;5;167;01mKeyError\u001b[39;00m(key)\n\u001b[0;32m    140\u001b[0m \u001b[38;5;28;01mreturn\u001b[39;00m result\n",
      "\u001b[1;31mKeyError\u001b[0m: '.zarray'",
      "\nDuring handling of the above exception, another exception occurred:\n",
      "\u001b[1;31mArrayNotFoundError\u001b[0m                        Traceback (most recent call last)",
      "Input \u001b[1;32mIn [2]\u001b[0m, in \u001b[0;36m<cell line: 4>\u001b[1;34m()\u001b[0m\n\u001b[0;32m      1\u001b[0m \u001b[38;5;66;03m# Load the OME-NGFF Zarr image array\u001b[39;00m\n\u001b[0;32m      2\u001b[0m \u001b[38;5;28;01mimport\u001b[39;00m \u001b[38;5;21;01mdask\u001b[39;00m\u001b[38;5;21;01m.\u001b[39;00m\u001b[38;5;21;01marray\u001b[39;00m \u001b[38;5;28;01mas\u001b[39;00m \u001b[38;5;21;01mda\u001b[39;00m\n\u001b[1;32m----> 4\u001b[0m arr \u001b[38;5;241m=\u001b[39m \u001b[43mda\u001b[49m\u001b[38;5;241;43m.\u001b[39;49m\u001b[43mfrom_zarr\u001b[49m\u001b[43m(\u001b[49m\u001b[38;5;124;43m'\u001b[39;49m\u001b[38;5;124;43mhttps://thewtex.github.io/modern-insights-from-microscopy-images/HL50_cell.zarr/scale0/HL50_cell\u001b[39;49m\u001b[38;5;124;43m'\u001b[39;49m\u001b[43m)\u001b[49m\n\u001b[0;32m      5\u001b[0m arr\n",
      "File \u001b[1;32m~\\.conda\\envs\\i2k-web-2022\\lib\\site-packages\\dask\\array\\core.py:3419\u001b[0m, in \u001b[0;36mfrom_zarr\u001b[1;34m(url, component, storage_options, chunks, name, inline_array, **kwargs)\u001b[0m\n\u001b[0;32m   3417\u001b[0m         url \u001b[38;5;241m=\u001b[39m os\u001b[38;5;241m.\u001b[39mfspath(url)\n\u001b[0;32m   3418\u001b[0m     mapper \u001b[38;5;241m=\u001b[39m get_mapper(url, \u001b[38;5;241m*\u001b[39m\u001b[38;5;241m*\u001b[39mstorage_options)\n\u001b[1;32m-> 3419\u001b[0m     z \u001b[38;5;241m=\u001b[39m zarr\u001b[38;5;241m.\u001b[39mArray(mapper, read_only\u001b[38;5;241m=\u001b[39m\u001b[38;5;28;01mTrue\u001b[39;00m, path\u001b[38;5;241m=\u001b[39mcomponent, \u001b[38;5;241m*\u001b[39m\u001b[38;5;241m*\u001b[39mkwargs)\n\u001b[0;32m   3420\u001b[0m \u001b[38;5;28;01melse\u001b[39;00m:\n\u001b[0;32m   3421\u001b[0m     mapper \u001b[38;5;241m=\u001b[39m url\n",
      "File \u001b[1;32m~\\.conda\\envs\\i2k-web-2022\\lib\\site-packages\\zarr\\core.py:180\u001b[0m, in \u001b[0;36mArray.__init__\u001b[1;34m(self, store, path, read_only, chunk_store, synchronizer, cache_metadata, cache_attrs, partial_decompress, write_empty_chunks)\u001b[0m\n\u001b[0;32m    177\u001b[0m \u001b[38;5;28mself\u001b[39m\u001b[38;5;241m.\u001b[39m_write_empty_chunks \u001b[38;5;241m=\u001b[39m write_empty_chunks\n\u001b[0;32m    179\u001b[0m \u001b[38;5;66;03m# initialize metadata\u001b[39;00m\n\u001b[1;32m--> 180\u001b[0m \u001b[38;5;28;43mself\u001b[39;49m\u001b[38;5;241;43m.\u001b[39;49m\u001b[43m_load_metadata\u001b[49m\u001b[43m(\u001b[49m\u001b[43m)\u001b[49m\n\u001b[0;32m    182\u001b[0m \u001b[38;5;66;03m# initialize attributes\u001b[39;00m\n\u001b[0;32m    183\u001b[0m akey \u001b[38;5;241m=\u001b[39m \u001b[38;5;28mself\u001b[39m\u001b[38;5;241m.\u001b[39m_key_prefix \u001b[38;5;241m+\u001b[39m attrs_key\n",
      "File \u001b[1;32m~\\.conda\\envs\\i2k-web-2022\\lib\\site-packages\\zarr\\core.py:197\u001b[0m, in \u001b[0;36mArray._load_metadata\u001b[1;34m(self)\u001b[0m\n\u001b[0;32m    195\u001b[0m \u001b[38;5;124;03m\"\"\"(Re)load metadata from store.\"\"\"\u001b[39;00m\n\u001b[0;32m    196\u001b[0m \u001b[38;5;28;01mif\u001b[39;00m \u001b[38;5;28mself\u001b[39m\u001b[38;5;241m.\u001b[39m_synchronizer \u001b[38;5;129;01mis\u001b[39;00m \u001b[38;5;28;01mNone\u001b[39;00m:\n\u001b[1;32m--> 197\u001b[0m     \u001b[38;5;28;43mself\u001b[39;49m\u001b[38;5;241;43m.\u001b[39;49m\u001b[43m_load_metadata_nosync\u001b[49m\u001b[43m(\u001b[49m\u001b[43m)\u001b[49m\n\u001b[0;32m    198\u001b[0m \u001b[38;5;28;01melse\u001b[39;00m:\n\u001b[0;32m    199\u001b[0m     mkey \u001b[38;5;241m=\u001b[39m \u001b[38;5;28mself\u001b[39m\u001b[38;5;241m.\u001b[39m_key_prefix \u001b[38;5;241m+\u001b[39m array_meta_key\n",
      "File \u001b[1;32m~\\.conda\\envs\\i2k-web-2022\\lib\\site-packages\\zarr\\core.py:208\u001b[0m, in \u001b[0;36mArray._load_metadata_nosync\u001b[1;34m(self)\u001b[0m\n\u001b[0;32m    206\u001b[0m     meta_bytes \u001b[38;5;241m=\u001b[39m \u001b[38;5;28mself\u001b[39m\u001b[38;5;241m.\u001b[39m_store[mkey]\n\u001b[0;32m    207\u001b[0m \u001b[38;5;28;01mexcept\u001b[39;00m \u001b[38;5;167;01mKeyError\u001b[39;00m:\n\u001b[1;32m--> 208\u001b[0m     \u001b[38;5;28;01mraise\u001b[39;00m ArrayNotFoundError(\u001b[38;5;28mself\u001b[39m\u001b[38;5;241m.\u001b[39m_path)\n\u001b[0;32m    209\u001b[0m \u001b[38;5;28;01melse\u001b[39;00m:\n\u001b[0;32m    210\u001b[0m \n\u001b[0;32m    211\u001b[0m     \u001b[38;5;66;03m# decode and store metadata as instance members\u001b[39;00m\n\u001b[0;32m    212\u001b[0m     meta \u001b[38;5;241m=\u001b[39m \u001b[38;5;28mself\u001b[39m\u001b[38;5;241m.\u001b[39m_store\u001b[38;5;241m.\u001b[39m_metadata_class\u001b[38;5;241m.\u001b[39mdecode_array_metadata(meta_bytes)\n",
      "\u001b[1;31mArrayNotFoundError\u001b[0m: array not found at path %r' ''"
     ]
    }
   ],
   "source": [
    "# Load the OME-NGFF Zarr image array\n",
    "import dask.array as da\n",
    "\n",
    "arr = da.from_zarr('https://thewtex.github.io/modern-insights-from-microscopy-images/HL50_cell.zarr/scale0/HL50_cell')\n",
    "arr"
   ]
  },
  {
   "cell_type": "code",
   "execution_count": null,
   "metadata": {},
   "outputs": [
    {
     "data": {
      "text/html": [
       "<table>\n",
       "<tr>\n",
       "<td>\n",
       "<table>\n",
       "  <thead>\n",
       "    <tr><td> </td><th> Array </th><th> Chunk </th></tr>\n",
       "  </thead>\n",
       "  <tbody>\n",
       "    <tr><th> Bytes </th><td> 35.18 MB </td> <td> 149.05 kB </td></tr>\n",
       "    <tr><th> Shape </th><td> (236, 275, 271) </td> <td> (1, 275, 271) </td></tr>\n",
       "    <tr><th> Count </th><td> 709 Tasks </td><td> 236 Chunks </td></tr>\n",
       "    <tr><th> Type </th><td> >u2 </td><td> numpy.ndarray </td></tr>\n",
       "  </tbody>\n",
       "</table>\n",
       "</td>\n",
       "<td>\n",
       "<svg width=\"238\" height=\"230\" style=\"stroke:rgb(0,0,0);stroke-width:1\" >\n",
       "\n",
       "  <!-- Horizontal lines -->\n",
       "  <line x1=\"10\" y1=\"0\" x2=\"70\" y2=\"60\" style=\"stroke-width:2\" />\n",
       "  <line x1=\"10\" y1=\"120\" x2=\"70\" y2=\"180\" style=\"stroke-width:2\" />\n",
       "\n",
       "  <!-- Vertical lines -->\n",
       "  <line x1=\"10\" y1=\"0\" x2=\"10\" y2=\"120\" style=\"stroke-width:2\" />\n",
       "  <line x1=\"13\" y1=\"3\" x2=\"13\" y2=\"123\" />\n",
       "  <line x1=\"16\" y1=\"6\" x2=\"16\" y2=\"126\" />\n",
       "  <line x1=\"19\" y1=\"9\" x2=\"19\" y2=\"129\" />\n",
       "  <line x1=\"22\" y1=\"12\" x2=\"22\" y2=\"132\" />\n",
       "  <line x1=\"25\" y1=\"15\" x2=\"25\" y2=\"135\" />\n",
       "  <line x1=\"28\" y1=\"18\" x2=\"28\" y2=\"138\" />\n",
       "  <line x1=\"32\" y1=\"22\" x2=\"32\" y2=\"142\" />\n",
       "  <line x1=\"35\" y1=\"25\" x2=\"35\" y2=\"145\" />\n",
       "  <line x1=\"38\" y1=\"28\" x2=\"38\" y2=\"148\" />\n",
       "  <line x1=\"41\" y1=\"31\" x2=\"41\" y2=\"151\" />\n",
       "  <line x1=\"44\" y1=\"34\" x2=\"44\" y2=\"154\" />\n",
       "  <line x1=\"48\" y1=\"38\" x2=\"48\" y2=\"158\" />\n",
       "  <line x1=\"51\" y1=\"41\" x2=\"51\" y2=\"161\" />\n",
       "  <line x1=\"54\" y1=\"44\" x2=\"54\" y2=\"164\" />\n",
       "  <line x1=\"57\" y1=\"47\" x2=\"57\" y2=\"167\" />\n",
       "  <line x1=\"60\" y1=\"50\" x2=\"60\" y2=\"170\" />\n",
       "  <line x1=\"64\" y1=\"54\" x2=\"64\" y2=\"174\" />\n",
       "  <line x1=\"67\" y1=\"57\" x2=\"67\" y2=\"177\" />\n",
       "  <line x1=\"70\" y1=\"60\" x2=\"70\" y2=\"180\" style=\"stroke-width:2\" />\n",
       "\n",
       "  <!-- Colored Rectangle -->\n",
       "  <polygon points=\"10.0,0.0 70.57754010695187,60.57754010695187 70.57754010695187,180.57754010695186 10.0,120.0\" style=\"fill:#8B4903A0;stroke-width:0\"/>\n",
       "\n",
       "  <!-- Horizontal lines -->\n",
       "  <line x1=\"10\" y1=\"0\" x2=\"128\" y2=\"0\" style=\"stroke-width:2\" />\n",
       "  <line x1=\"13\" y1=\"3\" x2=\"131\" y2=\"3\" />\n",
       "  <line x1=\"16\" y1=\"6\" x2=\"134\" y2=\"6\" />\n",
       "  <line x1=\"19\" y1=\"9\" x2=\"137\" y2=\"9\" />\n",
       "  <line x1=\"22\" y1=\"12\" x2=\"140\" y2=\"12\" />\n",
       "  <line x1=\"25\" y1=\"15\" x2=\"144\" y2=\"15\" />\n",
       "  <line x1=\"28\" y1=\"18\" x2=\"147\" y2=\"18\" />\n",
       "  <line x1=\"32\" y1=\"22\" x2=\"150\" y2=\"22\" />\n",
       "  <line x1=\"35\" y1=\"25\" x2=\"153\" y2=\"25\" />\n",
       "  <line x1=\"38\" y1=\"28\" x2=\"156\" y2=\"28\" />\n",
       "  <line x1=\"41\" y1=\"31\" x2=\"160\" y2=\"31\" />\n",
       "  <line x1=\"44\" y1=\"34\" x2=\"163\" y2=\"34\" />\n",
       "  <line x1=\"48\" y1=\"38\" x2=\"166\" y2=\"38\" />\n",
       "  <line x1=\"51\" y1=\"41\" x2=\"169\" y2=\"41\" />\n",
       "  <line x1=\"54\" y1=\"44\" x2=\"172\" y2=\"44\" />\n",
       "  <line x1=\"57\" y1=\"47\" x2=\"175\" y2=\"47\" />\n",
       "  <line x1=\"60\" y1=\"50\" x2=\"179\" y2=\"50\" />\n",
       "  <line x1=\"64\" y1=\"54\" x2=\"182\" y2=\"54\" />\n",
       "  <line x1=\"67\" y1=\"57\" x2=\"185\" y2=\"57\" />\n",
       "  <line x1=\"70\" y1=\"60\" x2=\"188\" y2=\"60\" style=\"stroke-width:2\" />\n",
       "\n",
       "  <!-- Vertical lines -->\n",
       "  <line x1=\"10\" y1=\"0\" x2=\"70\" y2=\"60\" style=\"stroke-width:2\" />\n",
       "  <line x1=\"128\" y1=\"0\" x2=\"188\" y2=\"60\" style=\"stroke-width:2\" />\n",
       "\n",
       "  <!-- Colored Rectangle -->\n",
       "  <polygon points=\"10.0,0.0 128.25454545454545,0.0 188.8320855614973,60.57754010695187 70.57754010695187,60.57754010695187\" style=\"fill:#8B4903A0;stroke-width:0\"/>\n",
       "\n",
       "  <!-- Horizontal lines -->\n",
       "  <line x1=\"70\" y1=\"60\" x2=\"188\" y2=\"60\" style=\"stroke-width:2\" />\n",
       "  <line x1=\"70\" y1=\"180\" x2=\"188\" y2=\"180\" style=\"stroke-width:2\" />\n",
       "\n",
       "  <!-- Vertical lines -->\n",
       "  <line x1=\"70\" y1=\"60\" x2=\"70\" y2=\"180\" style=\"stroke-width:2\" />\n",
       "  <line x1=\"188\" y1=\"60\" x2=\"188\" y2=\"180\" style=\"stroke-width:2\" />\n",
       "\n",
       "  <!-- Colored Rectangle -->\n",
       "  <polygon points=\"70.57754010695187,60.57754010695187 188.8320855614973,60.57754010695187 188.8320855614973,180.57754010695186 70.57754010695187,180.57754010695186\" style=\"fill:#ECB172A0;stroke-width:0\"/>\n",
       "\n",
       "  <!-- Text -->\n",
       "  <text x=\"129.704813\" y=\"200.577540\" font-size=\"1.0rem\" font-weight=\"100\" text-anchor=\"middle\" >271</text>\n",
       "  <text x=\"208.832086\" y=\"120.577540\" font-size=\"1.0rem\" font-weight=\"100\" text-anchor=\"middle\" transform=\"rotate(-90,208.832086,120.577540)\">275</text>\n",
       "  <text x=\"30.288770\" y=\"170.288770\" font-size=\"1.0rem\" font-weight=\"100\" text-anchor=\"middle\" transform=\"rotate(45,30.288770,170.288770)\">236</text>\n",
       "</svg>\n",
       "</td>\n",
       "</tr>\n",
       "</table>"
      ],
      "text/plain": [
       "dask.array<getitem, shape=(236, 275, 271), dtype=>u2, chunksize=(1, 275, 271), chunktype=numpy.ndarray>"
      ]
     },
     "execution_count": null,
     "metadata": {},
     "output_type": "execute_result"
    }
   ],
   "source": [
    "vol = arr[0,0,:,:,:]\n",
    "vol"
   ]
  },
  {
   "cell_type": "code",
   "execution_count": null,
   "metadata": {},
   "outputs": [
    {
     "data": {
      "application/vnd.jupyter.widget-view+json": {
       "model_id": "042c3ac706ae4d12a9b6e0f49f74fada",
       "version_major": 2,
       "version_minor": 0
      },
      "text/plain": [
       "Viewer(geometries=[], gradient_opacity=0.9, point_sets=[], rendered_image=<itk.itkImagePython.itkImageUS3; pro…"
      ]
     },
     "metadata": {},
     "output_type": "display_data"
    }
   ],
   "source": [
    "from itkwidgets import view\n",
    "view(vol, gradient_opacity=0.9)"
   ]
  },
  {
   "cell_type": "code",
   "execution_count": null,
   "metadata": {},
   "outputs": [
    {
     "data": {
      "text/html": [
       "<table>\n",
       "<tr>\n",
       "<td>\n",
       "<table>\n",
       "  <thead>\n",
       "    <tr><td> </td><th> Array </th><th> Chunk </th></tr>\n",
       "  </thead>\n",
       "  <tbody>\n",
       "    <tr><th> Bytes </th><td> 2.15 MB </td> <td> 36.45 kB </td></tr>\n",
       "    <tr><th> Shape </th><td> (59, 68, 67) </td> <td> (1, 68, 67) </td></tr>\n",
       "    <tr><th> Count </th><td> 2125 Tasks </td><td> 236 Chunks </td></tr>\n",
       "    <tr><th> Type </th><td> float64 </td><td> numpy.ndarray </td></tr>\n",
       "  </tbody>\n",
       "</table>\n",
       "</td>\n",
       "<td>\n",
       "<svg width=\"239\" height=\"231\" style=\"stroke:rgb(0,0,0);stroke-width:1\" >\n",
       "\n",
       "  <!-- Horizontal lines -->\n",
       "  <line x1=\"10\" y1=\"0\" x2=\"71\" y2=\"61\" style=\"stroke-width:2\" />\n",
       "  <line x1=\"10\" y1=\"120\" x2=\"71\" y2=\"181\" />\n",
       "  <line x1=\"10\" y1=\"120\" x2=\"71\" y2=\"181\" style=\"stroke-width:2\" />\n",
       "\n",
       "  <!-- Vertical lines -->\n",
       "  <line x1=\"10\" y1=\"0\" x2=\"10\" y2=\"120\" style=\"stroke-width:2\" />\n",
       "  <line x1=\"13\" y1=\"3\" x2=\"13\" y2=\"123\" />\n",
       "  <line x1=\"16\" y1=\"6\" x2=\"16\" y2=\"126\" />\n",
       "  <line x1=\"19\" y1=\"9\" x2=\"19\" y2=\"129\" />\n",
       "  <line x1=\"22\" y1=\"12\" x2=\"22\" y2=\"132\" />\n",
       "  <line x1=\"25\" y1=\"15\" x2=\"25\" y2=\"135\" />\n",
       "  <line x1=\"28\" y1=\"18\" x2=\"28\" y2=\"138\" />\n",
       "  <line x1=\"31\" y1=\"21\" x2=\"31\" y2=\"141\" />\n",
       "  <line x1=\"34\" y1=\"24\" x2=\"34\" y2=\"144\" />\n",
       "  <line x1=\"38\" y1=\"28\" x2=\"38\" y2=\"148\" />\n",
       "  <line x1=\"42\" y1=\"32\" x2=\"42\" y2=\"152\" />\n",
       "  <line x1=\"45\" y1=\"35\" x2=\"45\" y2=\"155\" />\n",
       "  <line x1=\"48\" y1=\"38\" x2=\"48\" y2=\"158\" />\n",
       "  <line x1=\"51\" y1=\"41\" x2=\"51\" y2=\"161\" />\n",
       "  <line x1=\"54\" y1=\"44\" x2=\"54\" y2=\"164\" />\n",
       "  <line x1=\"57\" y1=\"47\" x2=\"57\" y2=\"167\" />\n",
       "  <line x1=\"60\" y1=\"50\" x2=\"60\" y2=\"170\" />\n",
       "  <line x1=\"63\" y1=\"53\" x2=\"63\" y2=\"173\" />\n",
       "  <line x1=\"67\" y1=\"57\" x2=\"67\" y2=\"177\" />\n",
       "  <line x1=\"71\" y1=\"61\" x2=\"71\" y2=\"181\" style=\"stroke-width:2\" />\n",
       "\n",
       "  <!-- Colored Rectangle -->\n",
       "  <polygon points=\"10.0,0.0 71.24567474048442,61.245674740484425 71.24567474048442,181.24567474048442 10.0,120.0\" style=\"fill:#8B4903A0;stroke-width:0\"/>\n",
       "\n",
       "  <!-- Horizontal lines -->\n",
       "  <line x1=\"10\" y1=\"0\" x2=\"128\" y2=\"0\" style=\"stroke-width:2\" />\n",
       "  <line x1=\"13\" y1=\"3\" x2=\"131\" y2=\"3\" />\n",
       "  <line x1=\"16\" y1=\"6\" x2=\"134\" y2=\"6\" />\n",
       "  <line x1=\"19\" y1=\"9\" x2=\"137\" y2=\"9\" />\n",
       "  <line x1=\"22\" y1=\"12\" x2=\"140\" y2=\"12\" />\n",
       "  <line x1=\"25\" y1=\"15\" x2=\"143\" y2=\"15\" />\n",
       "  <line x1=\"28\" y1=\"18\" x2=\"146\" y2=\"18\" />\n",
       "  <line x1=\"31\" y1=\"21\" x2=\"150\" y2=\"21\" />\n",
       "  <line x1=\"34\" y1=\"24\" x2=\"153\" y2=\"24\" />\n",
       "  <line x1=\"38\" y1=\"28\" x2=\"156\" y2=\"28\" />\n",
       "  <line x1=\"42\" y1=\"32\" x2=\"160\" y2=\"32\" />\n",
       "  <line x1=\"45\" y1=\"35\" x2=\"163\" y2=\"35\" />\n",
       "  <line x1=\"48\" y1=\"38\" x2=\"166\" y2=\"38\" />\n",
       "  <line x1=\"51\" y1=\"41\" x2=\"169\" y2=\"41\" />\n",
       "  <line x1=\"54\" y1=\"44\" x2=\"172\" y2=\"44\" />\n",
       "  <line x1=\"57\" y1=\"47\" x2=\"175\" y2=\"47\" />\n",
       "  <line x1=\"60\" y1=\"50\" x2=\"179\" y2=\"50\" />\n",
       "  <line x1=\"63\" y1=\"53\" x2=\"182\" y2=\"53\" />\n",
       "  <line x1=\"67\" y1=\"57\" x2=\"185\" y2=\"57\" />\n",
       "  <line x1=\"71\" y1=\"61\" x2=\"189\" y2=\"61\" style=\"stroke-width:2\" />\n",
       "\n",
       "  <!-- Vertical lines -->\n",
       "  <line x1=\"10\" y1=\"0\" x2=\"71\" y2=\"61\" style=\"stroke-width:2\" />\n",
       "  <line x1=\"128\" y1=\"0\" x2=\"189\" y2=\"61\" />\n",
       "  <line x1=\"128\" y1=\"0\" x2=\"189\" y2=\"61\" style=\"stroke-width:2\" />\n",
       "\n",
       "  <!-- Colored Rectangle -->\n",
       "  <polygon points=\"10.0,0.0 128.23529411764707,0.0 189.4809688581315,61.245674740484425 71.24567474048442,61.245674740484425\" style=\"fill:#8B4903A0;stroke-width:0\"/>\n",
       "\n",
       "  <!-- Horizontal lines -->\n",
       "  <line x1=\"71\" y1=\"61\" x2=\"189\" y2=\"61\" style=\"stroke-width:2\" />\n",
       "  <line x1=\"71\" y1=\"181\" x2=\"189\" y2=\"181\" />\n",
       "  <line x1=\"71\" y1=\"181\" x2=\"189\" y2=\"181\" style=\"stroke-width:2\" />\n",
       "\n",
       "  <!-- Vertical lines -->\n",
       "  <line x1=\"71\" y1=\"61\" x2=\"71\" y2=\"181\" style=\"stroke-width:2\" />\n",
       "  <line x1=\"189\" y1=\"61\" x2=\"189\" y2=\"181\" />\n",
       "  <line x1=\"189\" y1=\"61\" x2=\"189\" y2=\"181\" style=\"stroke-width:2\" />\n",
       "\n",
       "  <!-- Colored Rectangle -->\n",
       "  <polygon points=\"71.24567474048442,61.245674740484425 189.48096885813146,61.245674740484425 189.48096885813146,181.24567474048442 71.24567474048442,181.24567474048442\" style=\"fill:#ECB172A0;stroke-width:0\"/>\n",
       "\n",
       "  <!-- Text -->\n",
       "  <text x=\"130.363322\" y=\"201.245675\" font-size=\"1.0rem\" font-weight=\"100\" text-anchor=\"middle\" >67</text>\n",
       "  <text x=\"209.480969\" y=\"121.245675\" font-size=\"1.0rem\" font-weight=\"100\" text-anchor=\"middle\" transform=\"rotate(0,209.480969,121.245675)\">68</text>\n",
       "  <text x=\"30.622837\" y=\"170.622837\" font-size=\"1.0rem\" font-weight=\"100\" text-anchor=\"middle\" transform=\"rotate(45,30.622837,170.622837)\">59</text>\n",
       "</svg>\n",
       "</td>\n",
       "</tr>\n",
       "</table>"
      ],
      "text/plain": [
       "dask.array<coarsen, shape=(59, 68, 67), dtype=float64, chunksize=(1, 68, 67), chunktype=numpy.ndarray>"
      ]
     },
     "execution_count": null,
     "metadata": {},
     "output_type": "execute_result"
    }
   ],
   "source": [
    "# We can downsample the Dask array with `coarsen`\n",
    "import numpy as np\n",
    "\n",
    "factor = 4\n",
    "down = da.coarsen(np.mean, vol, { 0: factor, 1: factor, 2: factor }, trim_excess=True)\n",
    "down"
   ]
  },
  {
   "cell_type": "code",
   "execution_count": null,
   "metadata": {},
   "outputs": [
    {
     "name": "stdout",
     "output_type": "stream",
     "text": [
      "7.793061017990112 seconds\n"
     ]
    }
   ],
   "source": [
    "# Computation is lazy by default -- we can trigger it with .compute()\n",
    "import time\n",
    "\n",
    "start = time.time()\n",
    "\n",
    "down_arr = down.compute()\n",
    "\n",
    "elapsed = time.time() - start\n",
    "print(elapsed, 'seconds')"
   ]
  },
  {
   "cell_type": "code",
   "execution_count": null,
   "metadata": {},
   "outputs": [
    {
     "name": "stdout",
     "output_type": "stream",
     "text": [
      "<class 'numpy.ndarray'>\n",
      "(59, 68, 67)\n"
     ]
    },
    {
     "data": {
      "application/vnd.jupyter.widget-view+json": {
       "model_id": "77acbfbe26df419cb94969e6fd6b7075",
       "version_major": 2,
       "version_minor": 0
      },
      "text/plain": [
       "Viewer(geometries=[], gradient_opacity=0.22, point_sets=[], rendered_image=<itk.itkImagePython.itkImageD3; pro…"
      ]
     },
     "metadata": {},
     "output_type": "display_data"
    }
   ],
   "source": [
    "print(type(down_arr))\n",
    "print(down_arr.shape)\n",
    "view(down_arr)"
   ]
  },
  {
   "cell_type": "markdown",
   "metadata": {},
   "source": [
    "## Cloud cluster"
   ]
  },
  {
   "cell_type": "markdown",
   "metadata": {},
   "source": [
    "[Coiled.io](https://coiled.io/) is a service that provides a dynamic cloud cluster with minimal configuration."
   ]
  },
  {
   "cell_type": "code",
   "execution_count": null,
   "metadata": {},
   "outputs": [],
   "source": [
    "#ciskip\n",
    "# Start a new cloud cluster\n",
    "\n",
    "# You must first log into Coiled.\n",
    "import coiled\n",
    "from dask.distributed import Client, LocalCluster\n",
    "\n",
    "# Set to re-use a running cluster when re-running the notebook. Listed at https://cloud.coiled.io/<username>/clusters.\n",
    "name = None\n",
    "cluster = coiled.Cluster(n_workers=4,\n",
    "                         worker_cpu=2,\n",
    "                         worker_memory='6G',\n",
    "                         name=name,\n",
    "                         software='thewtex/i2k-2020-mi2')\n",
    "    \n",
    "client = Client(cluster)\n",
    "# Click on the *Dashboard* link\n",
    "client"
   ]
  },
  {
   "cell_type": "markdown",
   "metadata": {},
   "source": [
    "*Note:*\n",
    "\n",
    "It is **critical** that the:\n",
    "\n",
    "- Jupyter client\n",
    "- Jupyter kernel\n",
    "- Dask scheduler\n",
    "- Dask workers\n",
    "\n",
    "all have a consistent software environment.\n",
    "\n",
    "See [the coiled documentation on how to create a consistent software environment](https://docs.coiled.io/user_guide/software_environment.html)."
   ]
  },
  {
   "cell_type": "code",
   "execution_count": null,
   "metadata": {},
   "outputs": [],
   "source": [
    "%pycat ./create_coiled_software_environment.py"
   ]
  },
  {
   "cell_type": "code",
   "execution_count": null,
   "metadata": {},
   "outputs": [
    {
     "name": "stdout",
     "output_type": "stream",
     "text": [
      "9.133583784103394 seconds\n"
     ]
    }
   ],
   "source": [
    "# Run on the cloud cluster -- keep an eye on the dashboard!\n",
    "start = time.time()\n",
    "\n",
    "down_arr = down.compute()\n",
    "\n",
    "elapsed = time.time() - start\n",
    "print(elapsed, 'seconds')"
   ]
  },
  {
   "cell_type": "markdown",
   "metadata": {},
   "source": [
    "## Osteoarthritis Initiative (OAI) Analysis on the Coiled Cloud \n",
    "\n",
    "End-to-end processing pipeline performing segmentation, registration, and mesh analysis to quantify cartilage thickness from knee osteoarthritis images. [Slides](https://docs.google.com/presentation/d/1sT7zOM2H_e-n4ogfOdj0WldlGwtxNpC8wiinD-gDYkc/edit#slide=id.g126532834ca_0_184)"
   ]
  },
  {
   "cell_type": "markdown",
   "metadata": {},
   "source": [
    "## Exercises"
   ]
  },
  {
   "cell_type": "markdown",
   "metadata": {},
   "source": [
    "### Exercise 1"
   ]
  },
  {
   "cell_type": "markdown",
   "metadata": {},
   "source": [
    "*Change the data chunk size.*\n",
    "\n",
    "*How does chunk size impact downsampling performance?*"
   ]
  },
  {
   "cell_type": "code",
   "execution_count": null,
   "metadata": {},
   "outputs": [],
   "source": []
  },
  {
   "cell_type": "code",
   "execution_count": null,
   "metadata": {},
   "outputs": [
    {
     "data": {
      "text/html": [
       "<table style=\"border: 2px solid white;\">\n",
       "<tr>\n",
       "<td style=\"vertical-align: top; border: 0px solid white\">\n",
       "<h3 style=\"text-align: left;\">Client</h3>\n",
       "<ul style=\"text-align: left; list-style: none; margin: 0; padding: 0;\">\n",
       "  <li><b>Scheduler: </b>inproc://10.10.10.247/3140440/1</li>\n",
       "  <li><b>Dashboard: </b><a href='http://10.10.10.247:8787/status' target='_blank'>http://10.10.10.247:8787/status</a></li>\n",
       "</ul>\n",
       "</td>\n",
       "<td style=\"vertical-align: top; border: 0px solid white\">\n",
       "<h3 style=\"text-align: left;\">Cluster</h3>\n",
       "<ul style=\"text-align: left; list-style:none; margin: 0; padding: 0;\">\n",
       "  <li><b>Workers: </b>2</li>\n",
       "  <li><b>Cores: </b>16</li>\n",
       "  <li><b>Memory: </b>12.00 GB</li>\n",
       "</ul>\n",
       "</td>\n",
       "</tr>\n",
       "</table>"
      ],
      "text/plain": [
       "<Client: 'inproc://10.10.10.247/3140440/1' processes=2 threads=16, memory=12.00 GB>"
      ]
     },
     "execution_count": null,
     "metadata": {},
     "output_type": "execute_result"
    }
   ],
   "source": [
    "# Run on a local \"cluster\" -- how does performance compare? Why?\n",
    "from dask.distributed import Client, LocalCluster\n",
    "\n",
    "local_cluster = LocalCluster(n_workers=2, processes=False, memory_limit='6G')\n",
    "client = Client(local_cluster)\n",
    "client"
   ]
  },
  {
   "cell_type": "code",
   "execution_count": null,
   "metadata": {
    "scrolled": true
   },
   "outputs": [
    {
     "name": "stdout",
     "output_type": "stream",
     "text": [
      "3.965486526489258 seconds\n"
     ]
    }
   ],
   "source": [
    "start = time.time()\n",
    "\n",
    "down_arr = down.compute()\n",
    "\n",
    "elapsed = time.time() - start\n",
    "print(elapsed, 'seconds')"
   ]
  },
  {
   "cell_type": "markdown",
   "metadata": {},
   "source": [
    "### Exercise 2"
   ]
  },
  {
   "cell_type": "markdown",
   "metadata": {},
   "source": [
    "*Reproduce the OAI analysis on the Coiled Cloud*\n",
    "\n",
    "<a href=\"https://colab.research.google.com/github/uncbiag/OAI_analysis_2/blob/master/notebooks/DaskComputationCoiled.ipynb\" target=\"_parent\"><img src=\"https://colab.research.google.com/assets/colab-badge.svg\" alt=\"Open In Colab\"/></a>"
   ]
  }
 ],
 "metadata": {
  "kernelspec": {
   "display_name": "Python 3 (ipykernel)",
   "language": "python",
   "name": "python3"
  },
  "language_info": {
   "codemirror_mode": {
    "name": "ipython",
    "version": 3
   },
   "file_extension": ".py",
   "mimetype": "text/x-python",
   "name": "python",
   "nbconvert_exporter": "python",
   "pygments_lexer": "ipython3",
   "version": "3.9.0"
  }
 },
 "nbformat": 4,
 "nbformat_minor": 4
}
