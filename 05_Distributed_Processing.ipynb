{
 "cells": [
  {
   "cell_type": "markdown",
   "metadata": {},
   "source": [
    "  - Cloud computation\n",
    "      - Short running functional units\n",
    "      - Long running computation\n",
    "        - Managed kubernetes\n",
    "        - RabbitMQ\n",
    "        \n",
    "        \n",
    "          - Distributed computation\n",
    "          - Dask\n",
    "          - Spark - Large data processing and visualization with ImgLib2, N5, Spark, BigDataViewer, and Paintera https://www.janelia.org/sites/default/files/You%20%2B%20Janelia/Conferences/3.pdf\n"
   ]
  },
  {
   "cell_type": "code",
   "execution_count": null,
   "metadata": {},
   "outputs": [],
   "source": []
  }
 ],
 "metadata": {
  "kernelspec": {
   "display_name": "Python 3",
   "language": "python",
   "name": "python3"
  }
 },
 "nbformat": 4,
 "nbformat_minor": 4
}
