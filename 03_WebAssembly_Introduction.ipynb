{
 "cells": [
  {
   "cell_type": "markdown",
   "metadata": {},
   "source": [
    "# Introduction to WebAssembly"
   ]
  },
  {
   "cell_type": "markdown",
   "metadata": {},
   "source": [
    "## Learning objectives\n",
    "\n",
    "- Understand how **[WebAssembly](https://webassembly.org/) binaries** are similar and different traditional native binaries\n",
    "- Identify the basic **WebAssembly datatypes** and how a **runtime interfaces** with WebAssembly\n",
    "- Understand the difference between the **[Emscripten](https://emscripten.org/)** and **[WASI](https://wasi.dev/)** toolchains and runtimes\n",
    "- Become familiar with the basics of building, running and **debugging WebAssembly**"
   ]
  },
  {
   "cell_type": "markdown",
   "metadata": {},
   "source": [
    "## Tutorial"
   ]
  },
  {
   "cell_type": "markdown",
   "metadata": {},
   "source": [
    "We will interactively walk through and discuss the [itk-wasm](https://wasm.itk.org):\n",
    "\n",
    "- [Hello World tutorial](https://wasm.itk.org/examples/hello_world.html)\n",
    "- [Debugging tutorial](https://wasm.itk.org/examples/debugging.html)"
   ]
  },
  {
   "cell_type": "markdown",
   "metadata": {},
   "source": [
    "## Exercises"
   ]
  },
  {
   "cell_type": "markdown",
   "metadata": {},
   "source": [
    "Open the [webassembly.sh](https://webassembly.sh) browser-based terminal.\n",
    "\n",
    "Run the commands:\n",
    "\n",
    "- `help`\n",
    "- `about`\n",
    "- `cowsay \"Hello i2k wasm world!\"`"
   ]
  },
  {
   "cell_type": "markdown",
   "metadata": {},
   "source": [
    "Answer the following questions:\n",
    "\n",
    "- *Is this running the Emscripten or WASI runtime?*\n",
    "- *Where is data stored?*\n",
    "- *Does this shell have access to your local filesystem*?"
   ]
  }
 ],
 "metadata": {
  "kernelspec": {
   "display_name": "Python 3 (ipykernel)",
   "language": "python",
   "name": "python3"
  },
  "language_info": {
   "codemirror_mode": {
    "name": "ipython",
    "version": 3
   },
   "file_extension": ".py",
   "mimetype": "text/x-python",
   "name": "python",
   "nbconvert_exporter": "python",
   "pygments_lexer": "ipython3",
   "version": "3.9.0"
  }
 },
 "nbformat": 4,
 "nbformat_minor": 4
}
