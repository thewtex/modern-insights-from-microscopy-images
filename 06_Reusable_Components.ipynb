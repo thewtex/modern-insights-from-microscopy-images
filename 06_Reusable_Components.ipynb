{
 "cells": [
  {
   "cell_type": "markdown",
   "metadata": {},
   "source": [
    "# Open, Re-usable Deep Learning Components on the Web "
   ]
  },
  {
   "cell_type": "markdown",
   "metadata": {},
   "source": [
    "## Learning objectives\n",
    "\n",
    "- Use [ImJoy](https://imjoy.io/#/) web-based imaging components\n",
    "- Create a JavaScript-based ImJoy plugin\n",
    "- Create a Python-based ImJoy plugin \n",
    "\n",
    "*See also:* the [I2K 2020 Tutorial: ImJoying Interactive Bioimage Analysis\n",
    "with Deep Learning, ImageJ.JS &\n",
    "Friends](https://www.janelia.org/sites/default/files/You%20%2B%20Janelia/Conferences/10.pdf)"
   ]
  },
  {
   "cell_type": "markdown",
   "metadata": {},
   "source": [
    "ImJoy is a plugin powered hybrid computing platform for deploying deep learning applications such as advanced image analysis tools.\n",
    "\n",
    "ImJoy runs on mobile and desktop environment cross different operating systems, plugins can run in the browser, localhost, remote and cloud servers.\n",
    "\n",
    "With ImJoy, delivering Deep Learning tools to the end users is simple and easy thanks to\n",
    "its flexible plugin system and sharable plugin URL. Developer can easily add rich and interactive web interfaces to existing Python code.\n",
    "\n",
    "<img src=\"https://github.com/imjoy-team/ImJoy/raw/master/docs/assets/imjoy-overview.jpg\" width=\"600px\"></img>\n",
    "\n",
    "Checkout the documentation for how to get started and more details\n",
    "for how to develop ImJoy plugins: [ImJoy Docs](https://imjoy.io/docs)\n",
    "\n",
    "## Key Features of ImJoy\n",
    " * Minimal and flexible plugin powered web application\n",
    " * Server-less progressive web application with offline support\n",
    " * Support mobile devices\n",
    "\n",
    " * Rich and interactive user interface powered by web technologies\n",
    "   - use any existing web design libraries\n",
    "   - Rendering multi-dimensional data in 3D with webGL, Three.js etc.\n",
    " * Easy-to-use workflow composition\n",
    " * Isolated workspaces for grouping plugins\n",
    " * Self-contained plugin prototyping and development\n",
    "   - Built-in code editor, no extra IDE is needed for development\n",
    " * Powerful and extendable computational backends for browser, local and cloud computing\n",
    "   - Support Javascript, native Python and web Python\n",
    "   - Concurrent plugin execution through asynchronous programming\n",
    "   - Run Python plugins in the browser with Webassembly\n",
    "   - Browser plugins are isolated with secured sandboxes\n",
    "   - Support `async/await` syntax for Python3 and Javascript\n",
    "   - Support Conda virtual environments and pip packages for Python\n",
    "   - Support libraries hosted on Github or CDNs for javascript\n",
    "   - Easy plugin deployment and sharing through GitHub or Gist\n",
    "   - Deploying your own plugin repository to Github\n",
    "* Native support for n-dimensional arrays and tensors\n",
    "   - Support ndarrays from Numpy for data exchange\n",
    "\n",
    "\n",
    "**ImJoy greatly accelerates the development and dissemination of new tools.** You can develop plugins in ImJoy, deploy the plugin file to Github, and share the plugin URL through social networks. Users can then use it by a single click, even on a mobile phone\n",
    "\n",
    "<a href=\"https://imjoy.io/#/app?p=imjoy-team/example-plugins:Skin-Lesion-Analyzer\" target=\"_blank\">\n",
    "  <img src=\"https://github.com/imjoy-team/ImJoy/raw/master/docs/assets/imjoy-sharing.jpg\" width=\"500px\"></img>\n",
    "</a>"
   ]
  },
  {
   "cell_type": "markdown",
   "metadata": {},
   "source": [
    "Examine the ImJoy extension in the notebook toolbar\n",
    "![imjoy notebook](https://github.com/imjoy-team/imjoy-jupyter-extension/raw/master/imjoy_jupyter_extension/static/imjoy-toolbar.png)"
   ]
  },
  {
   "cell_type": "code",
   "execution_count": null,
   "metadata": {},
   "outputs": [
    {
     "data": {
      "application/javascript": [
       "window.connectPlugin && window.connectPlugin(\"711fbd99-16b4-4fbe-8616-8ae7aac3ad6e\")"
      ],
      "text/plain": [
       "<IPython.core.display.Javascript object>"
      ]
     },
     "metadata": {},
     "output_type": "display_data"
    },
    {
     "data": {
      "text/html": [
       "<div id=\"9aa27977-4216-4df7-b7a3-4b179efba56e\"></div>"
      ],
      "text/plain": [
       "<IPython.core.display.HTML object>"
      ]
     },
     "metadata": {},
     "output_type": "display_data"
    }
   ],
   "source": [
    "# Create an ImJoy plugin in Python that uses itk-vtk-viewer to visualize images\n",
    "import imageio\n",
    "import numpy as np\n",
    "from imjoy_rpc import api\n",
    "\n",
    "class ImJoyPlugin():\n",
    "    def setup(self):\n",
    "        api.log('plugin initialized')\n",
    "\n",
    "    async def run(self, ctx):\n",
    "        viewer = await api.showDialog(src=\"https://kitware.github.io/itk-vtk-viewer/app/\")\n",
    "\n",
    "        # show a 3D volume\n",
    "        image_array = np.random.randint(0, 255, [10,10,10], dtype='uint8')\n",
    "        \n",
    "        # show a 2D image\n",
    "        # image_array = imageio.imread('imageio:chelsea.png')\n",
    "\n",
    "        await viewer.setImage(image_array)\n",
    "\n",
    "api.export(ImJoyPlugin())"
   ]
  },
  {
   "cell_type": "code",
   "execution_count": null,
   "metadata": {},
   "outputs": [],
   "source": [
    "# Create a JavaScript ImJoy plugin\n",
    "from IPython.display import HTML\n",
    "my_plugin_source = HTML('''\n",
    "<docs lang=\"markdown\">\n",
    "[TODO: write documentation for this plugin.]\n",
    "</docs>\n",
    "\n",
    "<config lang=\"json\">\n",
    "{\n",
    "  \"name\": \"Untitled Plugin\",\n",
    "  \"type\": \"window\",\n",
    "  \"tags\": [],\n",
    "  \"ui\": \"\",\n",
    "  \"version\": \"0.1.0\",\n",
    "  \"cover\": \"\",\n",
    "  \"description\": \"[TODO: describe this plugin with one sentence.]\",\n",
    "  \"icon\": \"extension\",\n",
    "  \"inputs\": null,\n",
    "  \"outputs\": null,\n",
    "  \"api_version\": \"0.1.8\",\n",
    "  \"env\": \"\",\n",
    "  \"permissions\": [],\n",
    "  \"requirements\": [],\n",
    "  \"dependencies\": [],\n",
    "  \"defaults\": {\"w\": 20, \"h\": 10}\n",
    "}\n",
    "</config>\n",
    "\n",
    "<script lang=\"javascript\">\n",
    "class ImJoyPlugin {\n",
    "  async setup() {\n",
    "    api.log('initialized')\n",
    "  }\n",
    "\n",
    "  async run(ctx) {\n",
    "\n",
    "  }\n",
    "}\n",
    "\n",
    "api.export(new ImJoyPlugin())\n",
    "</script>\n",
    "\n",
    "<window lang=\"html\">\n",
    "  <div>\n",
    "    <p>\n",
    "    Hello World\n",
    "    </p>\n",
    "  </div>\n",
    "</window>\n",
    "\n",
    "<style lang=\"css\">\n",
    "\n",
    "</style>\n",
    "''')"
   ]
  },
  {
   "cell_type": "code",
   "execution_count": null,
   "metadata": {},
   "outputs": [
    {
     "data": {
      "application/javascript": [
       "window.connectPlugin && window.connectPlugin(\"711fbd99-16b4-4fbe-8616-8ae7aac3ad6e\")"
      ],
      "text/plain": [
       "<IPython.core.display.Javascript object>"
      ]
     },
     "metadata": {},
     "output_type": "display_data"
    },
    {
     "data": {
      "text/html": [
       "<div id=\"aadaafb8-8cba-41a8-82d0-c9878b2b9144\"></div>"
      ],
      "text/plain": [
       "<IPython.core.display.HTML object>"
      ]
     },
     "metadata": {},
     "output_type": "display_data"
    }
   ],
   "source": [
    "# Register the plugin\n",
    "from imjoy_rpc import api\n",
    "class ImJoyPlugin():\n",
    "    async def setup(self):\n",
    "        pass\n",
    "\n",
    "    async def run(self, ctx):\n",
    "        # for regular plugin\n",
    "        # p = await api.getPlugin(my_plugin_source)\n",
    "\n",
    "        # or for window plugin\n",
    "        # await api.createWindow(src=my_plugin_source)\n",
    "        await api.showDialog(src=my_plugin_source)\n",
    "\n",
    "api.export(ImJoyPlugin())"
   ]
  },
  {
   "cell_type": "markdown",
   "metadata": {},
   "source": [
    "## Exercises"
   ]
  },
  {
   "cell_type": "markdown",
   "metadata": {},
   "source": [
    "Try out plugins from the [ImJoy reference plugin repository](https://imjoy.io/repo/)."
   ]
  },
  {
   "cell_type": "code",
   "execution_count": null,
   "metadata": {},
   "outputs": [],
   "source": []
  }
 ],
 "metadata": {
  "kernelspec": {
   "display_name": "Python 3",
   "language": "python",
   "name": "python3"
  }
 },
 "nbformat": 4,
 "nbformat_minor": 4
}
